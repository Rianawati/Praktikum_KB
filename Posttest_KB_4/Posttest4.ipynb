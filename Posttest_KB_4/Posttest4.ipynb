{
 "cells": [
  {
   "cell_type": "markdown",
   "id": "f5ac8962",
   "metadata": {},
   "source": [
    "# POSTTEST 4 ( DATA PREPROCESSING)"
   ]
  },
  {
   "cell_type": "code",
   "execution_count": null,
   "id": "81a159ea",
   "metadata": {},
   "outputs": [],
   "source": [
    "Nama  : Rianawati\n",
    "NIM   : 2009106132\n",
    "Kelas  : C2 20"
   ]
  },
  {
   "cell_type": "code",
   "execution_count": 137,
   "id": "03daf850",
   "metadata": {},
   "outputs": [],
   "source": [
    "import pandas as pd\n",
    "import numpy as np\n",
    "import seaborn as sns\n",
    "import matplotlib.pyplot as plt\n",
    "\n",
    "# Data Split\n",
    "from sklearn.model_selection import train_test_split #testing dan training\n",
    "# Data Transforming\n",
    "from sklearn.preprocessing import StandardScaler #standarisasi\n",
    "from sklearn.preprocessing import MinMaxScaler #normalisasi\n",
    "# Data Cleaning\n",
    "from sklearn.impute import SimpleImputer #subtitusi nilai\n",
    "# Data Encoding\n",
    "from sklearn.preprocessing import OrdinalEncoder #encoder\n",
    "from sklearn.preprocessing import OneHotEncoder #onehot"
   ]
  },
  {
   "cell_type": "markdown",
   "id": "da0162cd",
   "metadata": {},
   "source": [
    "Record File \"countries of the world.csv\""
   ]
  },
  {
   "cell_type": "code",
   "execution_count": 211,
   "id": "9187954f",
   "metadata": {},
   "outputs": [
    {
     "data": {
      "text/html": [
       "<div>\n",
       "<style scoped>\n",
       "    .dataframe tbody tr th:only-of-type {\n",
       "        vertical-align: middle;\n",
       "    }\n",
       "\n",
       "    .dataframe tbody tr th {\n",
       "        vertical-align: top;\n",
       "    }\n",
       "\n",
       "    .dataframe thead th {\n",
       "        text-align: right;\n",
       "    }\n",
       "</style>\n",
       "<table border=\"1\" class=\"dataframe\">\n",
       "  <thead>\n",
       "    <tr style=\"text-align: right;\">\n",
       "      <th></th>\n",
       "      <th>Country</th>\n",
       "      <th>Region</th>\n",
       "      <th>Population</th>\n",
       "      <th>Area (sq. mi.)</th>\n",
       "      <th>Pop. Density (per sq. mi.)</th>\n",
       "      <th>Coastline (coast/area ratio)</th>\n",
       "      <th>Net migration</th>\n",
       "      <th>Infant mortality (per 1000 births)</th>\n",
       "      <th>GDP ($ per capita)</th>\n",
       "      <th>Literacy (%)</th>\n",
       "      <th>Phones (per 1000)</th>\n",
       "      <th>Arable (%)</th>\n",
       "      <th>Crops (%)</th>\n",
       "      <th>Other (%)</th>\n",
       "      <th>Climate</th>\n",
       "      <th>Birthrate</th>\n",
       "      <th>Deathrate</th>\n",
       "      <th>Agriculture</th>\n",
       "      <th>Industry</th>\n",
       "      <th>Service</th>\n",
       "    </tr>\n",
       "  </thead>\n",
       "  <tbody>\n",
       "    <tr>\n",
       "      <th>0</th>\n",
       "      <td>Afghanistan</td>\n",
       "      <td>ASIA (EX. NEAR EAST)</td>\n",
       "      <td>31056997</td>\n",
       "      <td>647500</td>\n",
       "      <td>48,0</td>\n",
       "      <td>0,00</td>\n",
       "      <td>23,06</td>\n",
       "      <td>163,07</td>\n",
       "      <td>700.0</td>\n",
       "      <td>36,0</td>\n",
       "      <td>3,2</td>\n",
       "      <td>12,13</td>\n",
       "      <td>0,22</td>\n",
       "      <td>87,65</td>\n",
       "      <td>1</td>\n",
       "      <td>46,6</td>\n",
       "      <td>20,34</td>\n",
       "      <td>0,38</td>\n",
       "      <td>0,24</td>\n",
       "      <td>0,38</td>\n",
       "    </tr>\n",
       "    <tr>\n",
       "      <th>1</th>\n",
       "      <td>Albania</td>\n",
       "      <td>EASTERN EUROPE</td>\n",
       "      <td>3581655</td>\n",
       "      <td>28748</td>\n",
       "      <td>124,6</td>\n",
       "      <td>1,26</td>\n",
       "      <td>-4,93</td>\n",
       "      <td>21,52</td>\n",
       "      <td>4500.0</td>\n",
       "      <td>86,5</td>\n",
       "      <td>71,2</td>\n",
       "      <td>21,09</td>\n",
       "      <td>4,42</td>\n",
       "      <td>74,49</td>\n",
       "      <td>3</td>\n",
       "      <td>15,11</td>\n",
       "      <td>5,22</td>\n",
       "      <td>0,232</td>\n",
       "      <td>0,188</td>\n",
       "      <td>0,579</td>\n",
       "    </tr>\n",
       "    <tr>\n",
       "      <th>2</th>\n",
       "      <td>Algeria</td>\n",
       "      <td>NORTHERN AFRICA</td>\n",
       "      <td>32930091</td>\n",
       "      <td>2381740</td>\n",
       "      <td>13,8</td>\n",
       "      <td>0,04</td>\n",
       "      <td>-0,39</td>\n",
       "      <td>31</td>\n",
       "      <td>6000.0</td>\n",
       "      <td>70,0</td>\n",
       "      <td>78,1</td>\n",
       "      <td>3,22</td>\n",
       "      <td>0,25</td>\n",
       "      <td>96,53</td>\n",
       "      <td>1</td>\n",
       "      <td>17,14</td>\n",
       "      <td>4,61</td>\n",
       "      <td>0,101</td>\n",
       "      <td>0,6</td>\n",
       "      <td>0,298</td>\n",
       "    </tr>\n",
       "    <tr>\n",
       "      <th>3</th>\n",
       "      <td>American Samoa</td>\n",
       "      <td>OCEANIA</td>\n",
       "      <td>57794</td>\n",
       "      <td>199</td>\n",
       "      <td>290,4</td>\n",
       "      <td>58,29</td>\n",
       "      <td>-20,71</td>\n",
       "      <td>9,27</td>\n",
       "      <td>8000.0</td>\n",
       "      <td>97,0</td>\n",
       "      <td>259,5</td>\n",
       "      <td>10</td>\n",
       "      <td>15</td>\n",
       "      <td>75</td>\n",
       "      <td>2</td>\n",
       "      <td>22,46</td>\n",
       "      <td>3,27</td>\n",
       "      <td>NaN</td>\n",
       "      <td>NaN</td>\n",
       "      <td>NaN</td>\n",
       "    </tr>\n",
       "    <tr>\n",
       "      <th>4</th>\n",
       "      <td>Andorra</td>\n",
       "      <td>WESTERN EUROPE</td>\n",
       "      <td>71201</td>\n",
       "      <td>468</td>\n",
       "      <td>152,1</td>\n",
       "      <td>0,00</td>\n",
       "      <td>6,6</td>\n",
       "      <td>4,05</td>\n",
       "      <td>19000.0</td>\n",
       "      <td>100,0</td>\n",
       "      <td>497,2</td>\n",
       "      <td>2,22</td>\n",
       "      <td>0</td>\n",
       "      <td>97,78</td>\n",
       "      <td>3</td>\n",
       "      <td>8,71</td>\n",
       "      <td>6,25</td>\n",
       "      <td>NaN</td>\n",
       "      <td>NaN</td>\n",
       "      <td>NaN</td>\n",
       "    </tr>\n",
       "  </tbody>\n",
       "</table>\n",
       "</div>"
      ],
      "text/plain": [
       "           Country                               Region  Population  \\\n",
       "0     Afghanistan         ASIA (EX. NEAR EAST)             31056997   \n",
       "1         Albania   EASTERN EUROPE                          3581655   \n",
       "2         Algeria   NORTHERN AFRICA                        32930091   \n",
       "3  American Samoa   OCEANIA                                   57794   \n",
       "4         Andorra   WESTERN EUROPE                            71201   \n",
       "\n",
       "   Area (sq. mi.) Pop. Density (per sq. mi.) Coastline (coast/area ratio)  \\\n",
       "0          647500                       48,0                         0,00   \n",
       "1           28748                      124,6                         1,26   \n",
       "2         2381740                       13,8                         0,04   \n",
       "3             199                      290,4                        58,29   \n",
       "4             468                      152,1                         0,00   \n",
       "\n",
       "  Net migration Infant mortality (per 1000 births)  GDP ($ per capita)  \\\n",
       "0         23,06                             163,07               700.0   \n",
       "1         -4,93                              21,52              4500.0   \n",
       "2         -0,39                                 31              6000.0   \n",
       "3        -20,71                               9,27              8000.0   \n",
       "4           6,6                               4,05             19000.0   \n",
       "\n",
       "  Literacy (%) Phones (per 1000) Arable (%) Crops (%) Other (%) Climate  \\\n",
       "0         36,0               3,2      12,13      0,22     87,65       1   \n",
       "1         86,5              71,2      21,09      4,42     74,49       3   \n",
       "2         70,0              78,1       3,22      0,25     96,53       1   \n",
       "3         97,0             259,5         10        15        75       2   \n",
       "4        100,0             497,2       2,22         0     97,78       3   \n",
       "\n",
       "  Birthrate Deathrate Agriculture Industry Service  \n",
       "0      46,6     20,34        0,38     0,24    0,38  \n",
       "1     15,11      5,22       0,232    0,188   0,579  \n",
       "2     17,14      4,61       0,101      0,6   0,298  \n",
       "3     22,46      3,27         NaN      NaN     NaN  \n",
       "4      8,71      6,25         NaN      NaN     NaN  "
      ]
     },
     "execution_count": 211,
     "metadata": {},
     "output_type": "execute_result"
    }
   ],
   "source": [
    "df = pd.read_csv('countries of the world.csv')\n",
    "df.head()"
   ]
  },
  {
   "cell_type": "code",
   "execution_count": 212,
   "id": "66f0ff1e",
   "metadata": {},
   "outputs": [
    {
     "data": {
      "text/plain": [
       "Index(['Country', 'Region', 'Population', 'Area (sq. mi.)',\n",
       "       'Pop. Density (per sq. mi.)', 'Coastline (coast/area ratio)',\n",
       "       'Net migration', 'Infant mortality (per 1000 births)',\n",
       "       'GDP ($ per capita)', 'Literacy (%)', 'Phones (per 1000)', 'Arable (%)',\n",
       "       'Crops (%)', 'Other (%)', 'Climate', 'Birthrate', 'Deathrate',\n",
       "       'Agriculture', 'Industry', 'Service'],\n",
       "      dtype='object')"
      ]
     },
     "execution_count": 212,
     "metadata": {},
     "output_type": "execute_result"
    }
   ],
   "source": [
    "df.keys()"
   ]
  },
  {
   "cell_type": "code",
   "execution_count": 213,
   "id": "6ee9c6e6",
   "metadata": {},
   "outputs": [
    {
     "name": "stdout",
     "output_type": "stream",
     "text": [
      "<class 'pandas.core.frame.DataFrame'>\n",
      "RangeIndex: 227 entries, 0 to 226\n",
      "Data columns (total 20 columns):\n",
      " #   Column                              Non-Null Count  Dtype  \n",
      "---  ------                              --------------  -----  \n",
      " 0   Country                             227 non-null    object \n",
      " 1   Region                              227 non-null    object \n",
      " 2   Population                          227 non-null    int64  \n",
      " 3   Area (sq. mi.)                      227 non-null    int64  \n",
      " 4   Pop. Density (per sq. mi.)          227 non-null    object \n",
      " 5   Coastline (coast/area ratio)        227 non-null    object \n",
      " 6   Net migration                       224 non-null    object \n",
      " 7   Infant mortality (per 1000 births)  224 non-null    object \n",
      " 8   GDP ($ per capita)                  226 non-null    float64\n",
      " 9   Literacy (%)                        209 non-null    object \n",
      " 10  Phones (per 1000)                   223 non-null    object \n",
      " 11  Arable (%)                          225 non-null    object \n",
      " 12  Crops (%)                           225 non-null    object \n",
      " 13  Other (%)                           225 non-null    object \n",
      " 14  Climate                             205 non-null    object \n",
      " 15  Birthrate                           224 non-null    object \n",
      " 16  Deathrate                           223 non-null    object \n",
      " 17  Agriculture                         212 non-null    object \n",
      " 18  Industry                            211 non-null    object \n",
      " 19  Service                             212 non-null    object \n",
      "dtypes: float64(1), int64(2), object(17)\n",
      "memory usage: 35.6+ KB\n"
     ]
    }
   ],
   "source": [
    "df.info()"
   ]
  },
  {
   "cell_type": "code",
   "execution_count": 214,
   "id": "b4d0ed1a",
   "metadata": {},
   "outputs": [
    {
     "data": {
      "text/plain": [
       "Country                                0\n",
       "Region                                 0\n",
       "Population                             0\n",
       "Area (sq. mi.)                         0\n",
       "Pop. Density (per sq. mi.)             0\n",
       "Coastline (coast/area ratio)           0\n",
       "Net migration                          3\n",
       "Infant mortality (per 1000 births)     3\n",
       "GDP ($ per capita)                     1\n",
       "Literacy (%)                          18\n",
       "Phones (per 1000)                      4\n",
       "Arable (%)                             2\n",
       "Crops (%)                              2\n",
       "Other (%)                              2\n",
       "Climate                               22\n",
       "Birthrate                              3\n",
       "Deathrate                              4\n",
       "Agriculture                           15\n",
       "Industry                              16\n",
       "Service                               15\n",
       "dtype: int64"
      ]
     },
     "execution_count": 214,
     "metadata": {},
     "output_type": "execute_result"
    }
   ],
   "source": [
    "df.isna().sum()"
   ]
  },
  {
   "cell_type": "code",
   "execution_count": 215,
   "id": "52efa762",
   "metadata": {},
   "outputs": [
    {
     "name": "stdout",
     "output_type": "stream",
     "text": [
      "panjang dataset 227 baris\n"
     ]
    }
   ],
   "source": [
    "print(f'panjang dataset {len(df)} baris')"
   ]
  },
  {
   "cell_type": "markdown",
   "id": "e37239d1",
   "metadata": {},
   "source": [
    "DATA SPLIT"
   ]
  },
  {
   "cell_type": "code",
   "execution_count": 216,
   "id": "167ae4be",
   "metadata": {},
   "outputs": [],
   "source": [
    "data = df[['Region']]\n",
    "label = df['Climate']\n",
    "\n",
    "data_train, data_test, label_train, label_test = train_test_split(data, label, test_size=.3)\n"
   ]
  },
  {
   "cell_type": "code",
   "execution_count": 217,
   "id": "44947485",
   "metadata": {},
   "outputs": [
    {
     "name": "stdout",
     "output_type": "stream",
     "text": [
      "panjang data training 158\n",
      "panjang label training 158\n",
      "panjang data testing 69\n",
      "panjang label testing 69\n"
     ]
    }
   ],
   "source": [
    "print(f'panjang data training {len(data_train)}',\n",
    "     f'panjang label training {len(label_train)}',\n",
    "     f'panjang data testing {len(data_test)}',\n",
    "     f'panjang label testing {len(label_test)}',\n",
    "     sep='\\n')"
   ]
  },
  {
   "cell_type": "markdown",
   "id": "da243a6c",
   "metadata": {},
   "source": [
    "DATA TRANSFORMASI"
   ]
  },
  {
   "cell_type": "code",
   "execution_count": 218,
   "id": "356de251",
   "metadata": {},
   "outputs": [],
   "source": [
    "dataset_normalisasi = df.copy()\n",
    "dataset_standarirasi = df.copy()"
   ]
  },
  {
   "cell_type": "markdown",
   "id": "581f1849",
   "metadata": {},
   "source": [
    "NORMALISASI"
   ]
  },
  {
   "cell_type": "code",
   "execution_count": 219,
   "id": "ebef0605",
   "metadata": {},
   "outputs": [
    {
     "data": {
      "text/html": [
       "<div>\n",
       "<style scoped>\n",
       "    .dataframe tbody tr th:only-of-type {\n",
       "        vertical-align: middle;\n",
       "    }\n",
       "\n",
       "    .dataframe tbody tr th {\n",
       "        vertical-align: top;\n",
       "    }\n",
       "\n",
       "    .dataframe thead th {\n",
       "        text-align: right;\n",
       "    }\n",
       "</style>\n",
       "<table border=\"1\" class=\"dataframe\">\n",
       "  <thead>\n",
       "    <tr style=\"text-align: right;\">\n",
       "      <th></th>\n",
       "      <th>Area (sq. mi.)</th>\n",
       "      <th>Population</th>\n",
       "    </tr>\n",
       "  </thead>\n",
       "  <tbody>\n",
       "    <tr>\n",
       "      <th>0</th>\n",
       "      <td>0.037920</td>\n",
       "      <td>0.023631</td>\n",
       "    </tr>\n",
       "    <tr>\n",
       "      <th>1</th>\n",
       "      <td>0.001683</td>\n",
       "      <td>0.002720</td>\n",
       "    </tr>\n",
       "    <tr>\n",
       "      <th>2</th>\n",
       "      <td>0.139485</td>\n",
       "      <td>0.025056</td>\n",
       "    </tr>\n",
       "    <tr>\n",
       "      <th>3</th>\n",
       "      <td>0.000012</td>\n",
       "      <td>0.000039</td>\n",
       "    </tr>\n",
       "    <tr>\n",
       "      <th>4</th>\n",
       "      <td>0.000027</td>\n",
       "      <td>0.000049</td>\n",
       "    </tr>\n",
       "  </tbody>\n",
       "</table>\n",
       "</div>"
      ],
      "text/plain": [
       "   Area (sq. mi.)  Population\n",
       "0        0.037920    0.023631\n",
       "1        0.001683    0.002720\n",
       "2        0.139485    0.025056\n",
       "3        0.000012    0.000039\n",
       "4        0.000027    0.000049"
      ]
     },
     "execution_count": 219,
     "metadata": {},
     "output_type": "execute_result"
    }
   ],
   "source": [
    "scaler = MinMaxScaler()\n",
    "\n",
    "normalize_dataset = scaler.fit_transform(dataset_normalisasi[['Area (sq. mi.)', 'Population']])\n",
    "\n",
    "normalize_dataset = pd.DataFrame(normalize_dataset)\n",
    "normalize_dataset.rename(columns={ 0 :'Area (sq. mi.)', 1 : 'Population'}, inplace=True)\n",
    "\n",
    "normalize_dataset.head()"
   ]
  },
  {
   "cell_type": "markdown",
   "id": "1f4bb562",
   "metadata": {},
   "source": [
    "STANDARISASI"
   ]
  },
  {
   "cell_type": "code",
   "execution_count": 220,
   "id": "f32dc2d5",
   "metadata": {},
   "outputs": [
    {
     "name": "stdout",
     "output_type": "stream",
     "text": [
      "<class 'pandas.core.frame.DataFrame'>\n",
      "RangeIndex: 227 entries, 0 to 226\n",
      "Data columns (total 20 columns):\n",
      " #   Column                              Non-Null Count  Dtype  \n",
      "---  ------                              --------------  -----  \n",
      " 0   Country                             227 non-null    object \n",
      " 1   Region                              227 non-null    object \n",
      " 2   Population                          227 non-null    int64  \n",
      " 3   Area (sq. mi.)                      227 non-null    int64  \n",
      " 4   Pop. Density (per sq. mi.)          227 non-null    object \n",
      " 5   Coastline (coast/area ratio)        227 non-null    object \n",
      " 6   Net migration                       224 non-null    object \n",
      " 7   Infant mortality (per 1000 births)  224 non-null    object \n",
      " 8   GDP ($ per capita)                  226 non-null    float64\n",
      " 9   Literacy (%)                        209 non-null    object \n",
      " 10  Phones (per 1000)                   223 non-null    object \n",
      " 11  Arable (%)                          225 non-null    object \n",
      " 12  Crops (%)                           225 non-null    object \n",
      " 13  Other (%)                           225 non-null    object \n",
      " 14  Climate                             205 non-null    object \n",
      " 15  Birthrate                           224 non-null    object \n",
      " 16  Deathrate                           223 non-null    object \n",
      " 17  Agriculture                         212 non-null    object \n",
      " 18  Industry                            211 non-null    object \n",
      " 19  Service                             212 non-null    object \n",
      "dtypes: float64(1), int64(2), object(17)\n",
      "memory usage: 35.6+ KB\n"
     ]
    }
   ],
   "source": [
    "dataset_standarirasi.info()"
   ]
  },
  {
   "cell_type": "code",
   "execution_count": 221,
   "id": "e910abc9",
   "metadata": {},
   "outputs": [],
   "source": [
    "dataset_standarirasi.drop('Country', axis = 1, inplace= True)"
   ]
  },
  {
   "cell_type": "code",
   "execution_count": 222,
   "id": "24f20f57",
   "metadata": {},
   "outputs": [],
   "source": [
    "dataset_standarirasi.drop('Region', axis = 1, inplace= True)"
   ]
  },
  {
   "cell_type": "code",
   "execution_count": 223,
   "id": "84948f4d",
   "metadata": {},
   "outputs": [],
   "source": [
    "dataset_standarirasi.drop('Pop. Density (per sq. mi.)', axis = 1, inplace= True)"
   ]
  },
  {
   "cell_type": "code",
   "execution_count": 224,
   "id": "0cddf60a",
   "metadata": {},
   "outputs": [],
   "source": [
    "dataset_standarirasi.drop('Coastline (coast/area ratio)', axis = 1, inplace= True)"
   ]
  },
  {
   "cell_type": "code",
   "execution_count": 225,
   "id": "de859710",
   "metadata": {},
   "outputs": [],
   "source": [
    "dataset_standarirasi.drop('Net migration', axis = 1, inplace= True)"
   ]
  },
  {
   "cell_type": "code",
   "execution_count": 226,
   "id": "6ab9b3a5",
   "metadata": {},
   "outputs": [],
   "source": [
    "dataset_standarirasi.drop('Infant mortality (per 1000 births)', axis = 1, inplace= True)"
   ]
  },
  {
   "cell_type": "code",
   "execution_count": 227,
   "id": "d92503e6",
   "metadata": {},
   "outputs": [],
   "source": [
    "dataset_standarirasi.drop('Crops (%)', axis = 1, inplace= True)"
   ]
  },
  {
   "cell_type": "code",
   "execution_count": 228,
   "id": "9dbe77bf",
   "metadata": {},
   "outputs": [],
   "source": [
    "dataset_standarirasi.drop('Literacy (%)', axis = 1, inplace= True)"
   ]
  },
  {
   "cell_type": "code",
   "execution_count": 229,
   "id": "7d94d3d8",
   "metadata": {},
   "outputs": [],
   "source": [
    "dataset_standarirasi.drop('Phones (per 1000)', axis = 1, inplace= True)"
   ]
  },
  {
   "cell_type": "code",
   "execution_count": 230,
   "id": "463323df",
   "metadata": {},
   "outputs": [],
   "source": [
    "dataset_standarirasi.drop('Arable (%)', axis = 1, inplace= True)"
   ]
  },
  {
   "cell_type": "code",
   "execution_count": 231,
   "id": "458d90ea",
   "metadata": {},
   "outputs": [],
   "source": [
    "dataset_standarirasi.drop('Other (%)', axis = 1, inplace= True)"
   ]
  },
  {
   "cell_type": "code",
   "execution_count": 232,
   "id": "81ba1acc",
   "metadata": {},
   "outputs": [],
   "source": [
    "dataset_standarirasi.drop('Climate', axis = 1, inplace= True)"
   ]
  },
  {
   "cell_type": "code",
   "execution_count": 233,
   "id": "da431b21",
   "metadata": {},
   "outputs": [],
   "source": [
    "dataset_standarirasi.drop('Birthrate', axis = 1, inplace= True)"
   ]
  },
  {
   "cell_type": "code",
   "execution_count": 234,
   "id": "0be860a8",
   "metadata": {},
   "outputs": [],
   "source": [
    "dataset_standarirasi.drop('Deathrate', axis = 1, inplace= True)"
   ]
  },
  {
   "cell_type": "code",
   "execution_count": 235,
   "id": "4bf80a3b",
   "metadata": {},
   "outputs": [],
   "source": [
    "dataset_standarirasi.drop('Agriculture', axis = 1, inplace= True)"
   ]
  },
  {
   "cell_type": "code",
   "execution_count": 236,
   "id": "c4b0ea39",
   "metadata": {},
   "outputs": [],
   "source": [
    "dataset_standarirasi.drop('Industry', axis = 1, inplace= True)"
   ]
  },
  {
   "cell_type": "code",
   "execution_count": 237,
   "id": "98a5303a",
   "metadata": {},
   "outputs": [],
   "source": [
    "dataset_standarirasi.drop('Service', axis = 1, inplace= True)"
   ]
  },
  {
   "cell_type": "code",
   "execution_count": 210,
   "id": "4ef98275",
   "metadata": {},
   "outputs": [
    {
     "name": "stdout",
     "output_type": "stream",
     "text": [
      "<class 'pandas.core.frame.DataFrame'>\n",
      "RangeIndex: 227 entries, 0 to 226\n",
      "Data columns (total 3 columns):\n",
      " #   Column              Non-Null Count  Dtype  \n",
      "---  ------              --------------  -----  \n",
      " 0   Population          227 non-null    int64  \n",
      " 1   Area (sq. mi.)      227 non-null    int64  \n",
      " 2   GDP ($ per capita)  226 non-null    float64\n",
      "dtypes: float64(1), int64(2)\n",
      "memory usage: 5.4 KB\n"
     ]
    }
   ],
   "source": [
    "dataset_standarirasi.info()"
   ]
  },
  {
   "cell_type": "code",
   "execution_count": 238,
   "id": "2094ad71",
   "metadata": {},
   "outputs": [
    {
     "name": "stdout",
     "output_type": "stream",
     "text": [
      "Dataset sebelum scalling:\n",
      "Nilai standar deviasi:\n",
      "Population            1.176314e+08\n",
      "Area (sq. mi.)        1.786335e+06\n",
      "GDP ($ per capita)    1.002688e+04\n",
      "dtype: float64\n",
      "\n",
      "Dataset setelah scalling:\n",
      "[[ 0.01969468  0.02758332 -0.8965722 ]\n",
      " [-0.21387688 -0.31879748 -0.51759095]\n",
      " [ 0.03561811  0.99842051 -0.36799309]\n",
      " [-0.24383369 -0.33477937 -0.16852927]\n",
      " [-0.24371972 -0.33462878  0.92852172]\n",
      " [-0.14123115  0.36301881 -0.77689391]]\n",
      "Nilai standar deviasi: nan\n"
     ]
    }
   ],
   "source": [
    "standart_std = StandardScaler()\n",
    "\n",
    "scaled_data = standart_std.fit_transform(dataset_standarirasi)\n",
    "\n",
    "print('Dataset sebelum scalling:',  # SEBELUM\n",
    "      f'Nilai standar deviasi:\\n{np.std(dataset_standarirasi)}',\n",
    "      sep='\\n', end='\\n\\n')\n",
    "\n",
    "print('Dataset setelah scalling:',  # SESUDAH\n",
    "      scaled_data[:6],\n",
    "      f'Nilai standar deviasi: {np.std(scaled_data)}',\n",
    "      sep='\\n')"
   ]
  },
  {
   "cell_type": "markdown",
   "id": "0c1ac79d",
   "metadata": {},
   "source": [
    "DATA CLEANING"
   ]
  },
  {
   "cell_type": "code",
   "execution_count": 178,
   "id": "4d67360b",
   "metadata": {},
   "outputs": [],
   "source": [
    "dataset_ns = df.copy()"
   ]
  },
  {
   "cell_type": "code",
   "execution_count": 179,
   "id": "92891a58",
   "metadata": {},
   "outputs": [],
   "source": [
    "imputer_mean = SimpleImputer(strategy='mean')\n",
    "imputer_median = SimpleImputer(strategy='median')\n",
    "imputer_modus = SimpleImputer(strategy='most_frequent')"
   ]
  },
  {
   "cell_type": "markdown",
   "id": "70c44f03",
   "metadata": {},
   "source": [
    "MODUS"
   ]
  },
  {
   "cell_type": "code",
   "execution_count": 239,
   "id": "c7572884",
   "metadata": {},
   "outputs": [
    {
     "data": {
      "text/plain": [
       "Country                                0\n",
       "Region                                 0\n",
       "Population                             0\n",
       "Area (sq. mi.)                         0\n",
       "Pop. Density (per sq. mi.)             0\n",
       "Coastline (coast/area ratio)           0\n",
       "Net migration                          3\n",
       "Infant mortality (per 1000 births)     3\n",
       "GDP ($ per capita)                     1\n",
       "Literacy (%)                          18\n",
       "Phones (per 1000)                      4\n",
       "Arable (%)                             2\n",
       "Crops (%)                              2\n",
       "Other (%)                              2\n",
       "Climate                               22\n",
       "Birthrate                              3\n",
       "Deathrate                              4\n",
       "Agriculture                           15\n",
       "Industry                              16\n",
       "Service                               15\n",
       "dtype: int64"
      ]
     },
     "execution_count": 239,
     "metadata": {},
     "output_type": "execute_result"
    }
   ],
   "source": [
    "df.isna().sum()"
   ]
  },
  {
   "cell_type": "code",
   "execution_count": 240,
   "id": "55307be2",
   "metadata": {},
   "outputs": [],
   "source": [
    "dfmodus = df.copy()"
   ]
  },
  {
   "cell_type": "code",
   "execution_count": 241,
   "id": "5b4a09df",
   "metadata": {},
   "outputs": [
    {
     "data": {
      "text/plain": [
       "Country                               0\n",
       "Region                                0\n",
       "Population                            0\n",
       "Area (sq. mi.)                        0\n",
       "Pop. Density (per sq. mi.)            0\n",
       "Coastline (coast/area ratio)          0\n",
       "Net migration                         3\n",
       "Infant mortality (per 1000 births)    3\n",
       "GDP ($ per capita)                    1\n",
       "Literacy (%)                          0\n",
       "Phones (per 1000)                     4\n",
       "Arable (%)                            2\n",
       "Crops (%)                             2\n",
       "Other (%)                             2\n",
       "Climate                               0\n",
       "Birthrate                             3\n",
       "Deathrate                             0\n",
       "Agriculture                           0\n",
       "Industry                              0\n",
       "Service                               0\n",
       "dtype: int64"
      ]
     },
     "execution_count": 241,
     "metadata": {},
     "output_type": "execute_result"
    }
   ],
   "source": [
    "dfmodus['Literacy (%)'] = imputer_modus.fit_transform(dfmodus[['Literacy (%)']])\n",
    "dfmodus['Climate'] = imputer_modus.fit_transform(dfmodus[['Climate']])\n",
    "dfmodus['Agriculture'] = imputer_modus.fit_transform(dfmodus[['Agriculture']])\n",
    "dfmodus['Industry'] = imputer_modus.fit_transform(dfmodus[['Industry']])\n",
    "dfmodus['Service'] = imputer_modus.fit_transform(dfmodus[['Service']])\n",
    "dfmodus['Deathrate'] = imputer_modus.fit_transform(dfmodus[['Deathrate']])\n",
    "\n",
    "dfmodus.isna().sum()"
   ]
  },
  {
   "cell_type": "markdown",
   "id": "78765628",
   "metadata": {},
   "source": [
    "MEAN"
   ]
  },
  {
   "cell_type": "code",
   "execution_count": 242,
   "id": "3d552fe9",
   "metadata": {},
   "outputs": [
    {
     "data": {
      "text/plain": [
       "Country                               0\n",
       "Region                                0\n",
       "Population                            0\n",
       "Area (sq. mi.)                        0\n",
       "Pop. Density (per sq. mi.)            0\n",
       "Coastline (coast/area ratio)          0\n",
       "Net migration                         3\n",
       "Infant mortality (per 1000 births)    3\n",
       "GDP ($ per capita)                    0\n",
       "Literacy (%)                          0\n",
       "Phones (per 1000)                     4\n",
       "Arable (%)                            2\n",
       "Crops (%)                             2\n",
       "Other (%)                             2\n",
       "Climate                               0\n",
       "Birthrate                             3\n",
       "Deathrate                             0\n",
       "Agriculture                           0\n",
       "Industry                              0\n",
       "Service                               0\n",
       "dtype: int64"
      ]
     },
     "execution_count": 242,
     "metadata": {},
     "output_type": "execute_result"
    }
   ],
   "source": [
    "dfmodus['GDP ($ per capita)'] = imputer_mean.fit_transform(dfmodus[['GDP ($ per capita)']])\n",
    "dfmodus['Area (sq. mi.)'] = imputer_mean.fit_transform(dfmodus[['Area (sq. mi.)']])\n",
    "\n",
    "dfmodus.isna().sum()"
   ]
  },
  {
   "cell_type": "markdown",
   "id": "90f8ac2a",
   "metadata": {},
   "source": [
    "DATA DUPLIKAT"
   ]
  },
  {
   "cell_type": "code",
   "execution_count": 243,
   "id": "a57e23c9",
   "metadata": {},
   "outputs": [
    {
     "data": {
      "text/plain": [
       "4"
      ]
     },
     "execution_count": 243,
     "metadata": {},
     "output_type": "execute_result"
    }
   ],
   "source": [
    "df2 = pd.read_csv('Copy.csv')\n",
    "df2.head()\n",
    "dataset_duplicate = df2.copy()\n",
    "\n",
    "dataset_duplicate.duplicated().sum()"
   ]
  },
  {
   "cell_type": "code",
   "execution_count": 244,
   "id": "4918b3e4",
   "metadata": {},
   "outputs": [
    {
     "data": {
      "text/plain": [
       "0"
      ]
     },
     "execution_count": 244,
     "metadata": {},
     "output_type": "execute_result"
    }
   ],
   "source": [
    "dataset_duplicate.drop_duplicates(inplace=True)\n",
    "\n",
    "dataset_duplicate.duplicated().sum()"
   ]
  },
  {
   "cell_type": "markdown",
   "id": "b60fbffb",
   "metadata": {},
   "source": [
    "ENCODING"
   ]
  },
  {
   "cell_type": "code",
   "execution_count": 245,
   "id": "ffaf1286",
   "metadata": {},
   "outputs": [],
   "source": [
    "dataset_ordinal = df.copy()\n",
    "dataset_one_hot = df.copy()"
   ]
  },
  {
   "cell_type": "code",
   "execution_count": 246,
   "id": "b4d6f07a",
   "metadata": {},
   "outputs": [
    {
     "data": {
      "text/plain": [
       "array(['ASIA (EX. NEAR EAST)         ',\n",
       "       'EASTERN EUROPE                     ',\n",
       "       'NORTHERN AFRICA                    ',\n",
       "       'OCEANIA                            ',\n",
       "       'WESTERN EUROPE                     ',\n",
       "       'SUB-SAHARAN AFRICA                 ', 'LATIN AMER. & CARIB    ',\n",
       "       'C.W. OF IND. STATES ', 'NEAR EAST                          ',\n",
       "       'NORTHERN AMERICA                   ',\n",
       "       'BALTICS                            '], dtype=object)"
      ]
     },
     "execution_count": 246,
     "metadata": {},
     "output_type": "execute_result"
    }
   ],
   "source": [
    "df['Region'].unique()"
   ]
  },
  {
   "cell_type": "markdown",
   "id": "76d184ad",
   "metadata": {},
   "source": [
    "ORDINAL"
   ]
  },
  {
   "cell_type": "code",
   "execution_count": 248,
   "id": "9ca2d047",
   "metadata": {},
   "outputs": [
    {
     "data": {
      "text/html": [
       "<div>\n",
       "<style scoped>\n",
       "    .dataframe tbody tr th:only-of-type {\n",
       "        vertical-align: middle;\n",
       "    }\n",
       "\n",
       "    .dataframe tbody tr th {\n",
       "        vertical-align: top;\n",
       "    }\n",
       "\n",
       "    .dataframe thead th {\n",
       "        text-align: right;\n",
       "    }\n",
       "</style>\n",
       "<table border=\"1\" class=\"dataframe\">\n",
       "  <thead>\n",
       "    <tr style=\"text-align: right;\">\n",
       "      <th></th>\n",
       "      <th>Country</th>\n",
       "      <th>Region</th>\n",
       "      <th>Population</th>\n",
       "      <th>Area (sq. mi.)</th>\n",
       "      <th>Pop. Density (per sq. mi.)</th>\n",
       "      <th>Coastline (coast/area ratio)</th>\n",
       "      <th>Net migration</th>\n",
       "      <th>Infant mortality (per 1000 births)</th>\n",
       "      <th>GDP ($ per capita)</th>\n",
       "      <th>Literacy (%)</th>\n",
       "      <th>Phones (per 1000)</th>\n",
       "      <th>Arable (%)</th>\n",
       "      <th>Crops (%)</th>\n",
       "      <th>Other (%)</th>\n",
       "      <th>Climate</th>\n",
       "      <th>Birthrate</th>\n",
       "      <th>Deathrate</th>\n",
       "      <th>Agriculture</th>\n",
       "      <th>Industry</th>\n",
       "      <th>Service</th>\n",
       "    </tr>\n",
       "  </thead>\n",
       "  <tbody>\n",
       "    <tr>\n",
       "      <th>0</th>\n",
       "      <td>Afghanistan</td>\n",
       "      <td>0</td>\n",
       "      <td>31056997</td>\n",
       "      <td>647500</td>\n",
       "      <td>48,0</td>\n",
       "      <td>0,00</td>\n",
       "      <td>23,06</td>\n",
       "      <td>163,07</td>\n",
       "      <td>700.0</td>\n",
       "      <td>36,0</td>\n",
       "      <td>3,2</td>\n",
       "      <td>12,13</td>\n",
       "      <td>0,22</td>\n",
       "      <td>87,65</td>\n",
       "      <td>1</td>\n",
       "      <td>46,6</td>\n",
       "      <td>20,34</td>\n",
       "      <td>0,38</td>\n",
       "      <td>0,24</td>\n",
       "      <td>0,38</td>\n",
       "    </tr>\n",
       "    <tr>\n",
       "      <th>1</th>\n",
       "      <td>Albania</td>\n",
       "      <td>3</td>\n",
       "      <td>3581655</td>\n",
       "      <td>28748</td>\n",
       "      <td>124,6</td>\n",
       "      <td>1,26</td>\n",
       "      <td>-4,93</td>\n",
       "      <td>21,52</td>\n",
       "      <td>4500.0</td>\n",
       "      <td>86,5</td>\n",
       "      <td>71,2</td>\n",
       "      <td>21,09</td>\n",
       "      <td>4,42</td>\n",
       "      <td>74,49</td>\n",
       "      <td>3</td>\n",
       "      <td>15,11</td>\n",
       "      <td>5,22</td>\n",
       "      <td>0,232</td>\n",
       "      <td>0,188</td>\n",
       "      <td>0,579</td>\n",
       "    </tr>\n",
       "    <tr>\n",
       "      <th>2</th>\n",
       "      <td>Algeria</td>\n",
       "      <td>6</td>\n",
       "      <td>32930091</td>\n",
       "      <td>2381740</td>\n",
       "      <td>13,8</td>\n",
       "      <td>0,04</td>\n",
       "      <td>-0,39</td>\n",
       "      <td>31</td>\n",
       "      <td>6000.0</td>\n",
       "      <td>70,0</td>\n",
       "      <td>78,1</td>\n",
       "      <td>3,22</td>\n",
       "      <td>0,25</td>\n",
       "      <td>96,53</td>\n",
       "      <td>1</td>\n",
       "      <td>17,14</td>\n",
       "      <td>4,61</td>\n",
       "      <td>0,101</td>\n",
       "      <td>0,6</td>\n",
       "      <td>0,298</td>\n",
       "    </tr>\n",
       "    <tr>\n",
       "      <th>3</th>\n",
       "      <td>American Samoa</td>\n",
       "      <td>8</td>\n",
       "      <td>57794</td>\n",
       "      <td>199</td>\n",
       "      <td>290,4</td>\n",
       "      <td>58,29</td>\n",
       "      <td>-20,71</td>\n",
       "      <td>9,27</td>\n",
       "      <td>8000.0</td>\n",
       "      <td>97,0</td>\n",
       "      <td>259,5</td>\n",
       "      <td>10</td>\n",
       "      <td>15</td>\n",
       "      <td>75</td>\n",
       "      <td>2</td>\n",
       "      <td>22,46</td>\n",
       "      <td>3,27</td>\n",
       "      <td>NaN</td>\n",
       "      <td>NaN</td>\n",
       "      <td>NaN</td>\n",
       "    </tr>\n",
       "    <tr>\n",
       "      <th>4</th>\n",
       "      <td>Andorra</td>\n",
       "      <td>10</td>\n",
       "      <td>71201</td>\n",
       "      <td>468</td>\n",
       "      <td>152,1</td>\n",
       "      <td>0,00</td>\n",
       "      <td>6,6</td>\n",
       "      <td>4,05</td>\n",
       "      <td>19000.0</td>\n",
       "      <td>100,0</td>\n",
       "      <td>497,2</td>\n",
       "      <td>2,22</td>\n",
       "      <td>0</td>\n",
       "      <td>97,78</td>\n",
       "      <td>3</td>\n",
       "      <td>8,71</td>\n",
       "      <td>6,25</td>\n",
       "      <td>NaN</td>\n",
       "      <td>NaN</td>\n",
       "      <td>NaN</td>\n",
       "    </tr>\n",
       "  </tbody>\n",
       "</table>\n",
       "</div>"
      ],
      "text/plain": [
       "           Country  Region  Population  Area (sq. mi.)  \\\n",
       "0     Afghanistan        0    31056997          647500   \n",
       "1         Albania        3     3581655           28748   \n",
       "2         Algeria        6    32930091         2381740   \n",
       "3  American Samoa        8       57794             199   \n",
       "4         Andorra       10       71201             468   \n",
       "\n",
       "  Pop. Density (per sq. mi.) Coastline (coast/area ratio) Net migration  \\\n",
       "0                       48,0                         0,00         23,06   \n",
       "1                      124,6                         1,26         -4,93   \n",
       "2                       13,8                         0,04         -0,39   \n",
       "3                      290,4                        58,29        -20,71   \n",
       "4                      152,1                         0,00           6,6   \n",
       "\n",
       "  Infant mortality (per 1000 births)  GDP ($ per capita) Literacy (%)  \\\n",
       "0                             163,07               700.0         36,0   \n",
       "1                              21,52              4500.0         86,5   \n",
       "2                                 31              6000.0         70,0   \n",
       "3                               9,27              8000.0         97,0   \n",
       "4                               4,05             19000.0        100,0   \n",
       "\n",
       "  Phones (per 1000) Arable (%) Crops (%) Other (%) Climate Birthrate  \\\n",
       "0               3,2      12,13      0,22     87,65       1      46,6   \n",
       "1              71,2      21,09      4,42     74,49       3     15,11   \n",
       "2              78,1       3,22      0,25     96,53       1     17,14   \n",
       "3             259,5         10        15        75       2     22,46   \n",
       "4             497,2       2,22         0     97,78       3      8,71   \n",
       "\n",
       "  Deathrate Agriculture Industry Service  \n",
       "0     20,34        0,38     0,24    0,38  \n",
       "1      5,22       0,232    0,188   0,579  \n",
       "2      4,61       0,101      0,6   0,298  \n",
       "3      3,27         NaN      NaN     NaN  \n",
       "4      6,25         NaN      NaN     NaN  "
      ]
     },
     "execution_count": 248,
     "metadata": {},
     "output_type": "execute_result"
    }
   ],
   "source": [
    "encoder_ordinal =OrdinalEncoder()\n",
    "\n",
    "#encoding kan\n",
    "dataset_ordinal['Region'] = encoder_ordinal.fit_transform(dataset_ordinal[['Region']]).astype('int64')\n",
    "\n",
    "#lihat\n",
    "dataset_ordinal.head()"
   ]
  },
  {
   "cell_type": "code",
   "execution_count": 249,
   "id": "f433d0e3",
   "metadata": {},
   "outputs": [
    {
     "data": {
      "text/plain": [
       "array([ 0,  3,  6,  8, 10,  9,  4,  2,  5,  7,  1], dtype=int64)"
      ]
     },
     "execution_count": 249,
     "metadata": {},
     "output_type": "execute_result"
    }
   ],
   "source": [
    "dataset_ordinal['Region'].unique()"
   ]
  },
  {
   "cell_type": "markdown",
   "id": "98324fa8",
   "metadata": {},
   "source": [
    "ONE-HOT"
   ]
  },
  {
   "cell_type": "code",
   "execution_count": 250,
   "id": "945d2c9f",
   "metadata": {},
   "outputs": [
    {
     "data": {
      "text/html": [
       "<div>\n",
       "<style scoped>\n",
       "    .dataframe tbody tr th:only-of-type {\n",
       "        vertical-align: middle;\n",
       "    }\n",
       "\n",
       "    .dataframe tbody tr th {\n",
       "        vertical-align: top;\n",
       "    }\n",
       "\n",
       "    .dataframe thead th {\n",
       "        text-align: right;\n",
       "    }\n",
       "</style>\n",
       "<table border=\"1\" class=\"dataframe\">\n",
       "  <thead>\n",
       "    <tr style=\"text-align: right;\">\n",
       "      <th></th>\n",
       "      <th>Country</th>\n",
       "      <th>Population</th>\n",
       "      <th>Area (sq. mi.)</th>\n",
       "      <th>Pop. Density (per sq. mi.)</th>\n",
       "      <th>Coastline (coast/area ratio)</th>\n",
       "      <th>Net migration</th>\n",
       "      <th>Infant mortality (per 1000 births)</th>\n",
       "      <th>GDP ($ per capita)</th>\n",
       "      <th>Literacy (%)</th>\n",
       "      <th>Phones (per 1000)</th>\n",
       "      <th>...</th>\n",
       "      <th>Region_BALTICS</th>\n",
       "      <th>Region_C.W. OF IND. STATES</th>\n",
       "      <th>Region_EASTERN EUROPE</th>\n",
       "      <th>Region_LATIN AMER. &amp; CARIB</th>\n",
       "      <th>Region_NEAR EAST</th>\n",
       "      <th>Region_NORTHERN AFRICA</th>\n",
       "      <th>Region_NORTHERN AMERICA</th>\n",
       "      <th>Region_OCEANIA</th>\n",
       "      <th>Region_SUB-SAHARAN AFRICA</th>\n",
       "      <th>Region_WESTERN EUROPE</th>\n",
       "    </tr>\n",
       "  </thead>\n",
       "  <tbody>\n",
       "    <tr>\n",
       "      <th>0</th>\n",
       "      <td>Afghanistan</td>\n",
       "      <td>31056997</td>\n",
       "      <td>647500</td>\n",
       "      <td>48,0</td>\n",
       "      <td>0,00</td>\n",
       "      <td>23,06</td>\n",
       "      <td>163,07</td>\n",
       "      <td>700.0</td>\n",
       "      <td>36,0</td>\n",
       "      <td>3,2</td>\n",
       "      <td>...</td>\n",
       "      <td>0</td>\n",
       "      <td>0</td>\n",
       "      <td>0</td>\n",
       "      <td>0</td>\n",
       "      <td>0</td>\n",
       "      <td>0</td>\n",
       "      <td>0</td>\n",
       "      <td>0</td>\n",
       "      <td>0</td>\n",
       "      <td>0</td>\n",
       "    </tr>\n",
       "    <tr>\n",
       "      <th>1</th>\n",
       "      <td>Albania</td>\n",
       "      <td>3581655</td>\n",
       "      <td>28748</td>\n",
       "      <td>124,6</td>\n",
       "      <td>1,26</td>\n",
       "      <td>-4,93</td>\n",
       "      <td>21,52</td>\n",
       "      <td>4500.0</td>\n",
       "      <td>86,5</td>\n",
       "      <td>71,2</td>\n",
       "      <td>...</td>\n",
       "      <td>0</td>\n",
       "      <td>0</td>\n",
       "      <td>1</td>\n",
       "      <td>0</td>\n",
       "      <td>0</td>\n",
       "      <td>0</td>\n",
       "      <td>0</td>\n",
       "      <td>0</td>\n",
       "      <td>0</td>\n",
       "      <td>0</td>\n",
       "    </tr>\n",
       "    <tr>\n",
       "      <th>2</th>\n",
       "      <td>Algeria</td>\n",
       "      <td>32930091</td>\n",
       "      <td>2381740</td>\n",
       "      <td>13,8</td>\n",
       "      <td>0,04</td>\n",
       "      <td>-0,39</td>\n",
       "      <td>31</td>\n",
       "      <td>6000.0</td>\n",
       "      <td>70,0</td>\n",
       "      <td>78,1</td>\n",
       "      <td>...</td>\n",
       "      <td>0</td>\n",
       "      <td>0</td>\n",
       "      <td>0</td>\n",
       "      <td>0</td>\n",
       "      <td>0</td>\n",
       "      <td>1</td>\n",
       "      <td>0</td>\n",
       "      <td>0</td>\n",
       "      <td>0</td>\n",
       "      <td>0</td>\n",
       "    </tr>\n",
       "    <tr>\n",
       "      <th>3</th>\n",
       "      <td>American Samoa</td>\n",
       "      <td>57794</td>\n",
       "      <td>199</td>\n",
       "      <td>290,4</td>\n",
       "      <td>58,29</td>\n",
       "      <td>-20,71</td>\n",
       "      <td>9,27</td>\n",
       "      <td>8000.0</td>\n",
       "      <td>97,0</td>\n",
       "      <td>259,5</td>\n",
       "      <td>...</td>\n",
       "      <td>0</td>\n",
       "      <td>0</td>\n",
       "      <td>0</td>\n",
       "      <td>0</td>\n",
       "      <td>0</td>\n",
       "      <td>0</td>\n",
       "      <td>0</td>\n",
       "      <td>1</td>\n",
       "      <td>0</td>\n",
       "      <td>0</td>\n",
       "    </tr>\n",
       "    <tr>\n",
       "      <th>4</th>\n",
       "      <td>Andorra</td>\n",
       "      <td>71201</td>\n",
       "      <td>468</td>\n",
       "      <td>152,1</td>\n",
       "      <td>0,00</td>\n",
       "      <td>6,6</td>\n",
       "      <td>4,05</td>\n",
       "      <td>19000.0</td>\n",
       "      <td>100,0</td>\n",
       "      <td>497,2</td>\n",
       "      <td>...</td>\n",
       "      <td>0</td>\n",
       "      <td>0</td>\n",
       "      <td>0</td>\n",
       "      <td>0</td>\n",
       "      <td>0</td>\n",
       "      <td>0</td>\n",
       "      <td>0</td>\n",
       "      <td>0</td>\n",
       "      <td>0</td>\n",
       "      <td>1</td>\n",
       "    </tr>\n",
       "  </tbody>\n",
       "</table>\n",
       "<p>5 rows × 30 columns</p>\n",
       "</div>"
      ],
      "text/plain": [
       "           Country  Population  Area (sq. mi.) Pop. Density (per sq. mi.)  \\\n",
       "0     Afghanistan     31056997          647500                       48,0   \n",
       "1         Albania      3581655           28748                      124,6   \n",
       "2         Algeria     32930091         2381740                       13,8   \n",
       "3  American Samoa        57794             199                      290,4   \n",
       "4         Andorra        71201             468                      152,1   \n",
       "\n",
       "  Coastline (coast/area ratio) Net migration  \\\n",
       "0                         0,00         23,06   \n",
       "1                         1,26         -4,93   \n",
       "2                         0,04         -0,39   \n",
       "3                        58,29        -20,71   \n",
       "4                         0,00           6,6   \n",
       "\n",
       "  Infant mortality (per 1000 births)  GDP ($ per capita) Literacy (%)  \\\n",
       "0                             163,07               700.0         36,0   \n",
       "1                              21,52              4500.0         86,5   \n",
       "2                                 31              6000.0         70,0   \n",
       "3                               9,27              8000.0         97,0   \n",
       "4                               4,05             19000.0        100,0   \n",
       "\n",
       "  Phones (per 1000)  ... Region_BALTICS                              \\\n",
       "0               3,2  ...                                          0   \n",
       "1              71,2  ...                                          0   \n",
       "2              78,1  ...                                          0   \n",
       "3             259,5  ...                                          0   \n",
       "4             497,2  ...                                          0   \n",
       "\n",
       "  Region_C.W. OF IND. STATES  Region_EASTERN EUROPE                       \\\n",
       "0                           0                                          0   \n",
       "1                           0                                          1   \n",
       "2                           0                                          0   \n",
       "3                           0                                          0   \n",
       "4                           0                                          0   \n",
       "\n",
       "  Region_LATIN AMER. & CARIB     Region_NEAR EAST                            \\\n",
       "0                              0                                          0   \n",
       "1                              0                                          0   \n",
       "2                              0                                          0   \n",
       "3                              0                                          0   \n",
       "4                              0                                          0   \n",
       "\n",
       "  Region_NORTHERN AFRICA                      \\\n",
       "0                                          0   \n",
       "1                                          0   \n",
       "2                                          1   \n",
       "3                                          0   \n",
       "4                                          0   \n",
       "\n",
       "  Region_NORTHERN AMERICA                     \\\n",
       "0                                          0   \n",
       "1                                          0   \n",
       "2                                          0   \n",
       "3                                          0   \n",
       "4                                          0   \n",
       "\n",
       "  Region_OCEANIA                              \\\n",
       "0                                          0   \n",
       "1                                          0   \n",
       "2                                          0   \n",
       "3                                          1   \n",
       "4                                          0   \n",
       "\n",
       "  Region_SUB-SAHARAN AFRICA                   \\\n",
       "0                                          0   \n",
       "1                                          0   \n",
       "2                                          0   \n",
       "3                                          0   \n",
       "4                                          0   \n",
       "\n",
       "   Region_WESTERN EUROPE                       \n",
       "0                                           0  \n",
       "1                                           0  \n",
       "2                                           0  \n",
       "3                                           0  \n",
       "4                                           1  \n",
       "\n",
       "[5 rows x 30 columns]"
      ]
     },
     "execution_count": 250,
     "metadata": {},
     "output_type": "execute_result"
    }
   ],
   "source": [
    "temp_dataset = pd.get_dummies(dataset_one_hot[['Region']])\n",
    "\n",
    "temp_dataset = pd.DataFrame(temp_dataset)\n",
    "\n",
    "dataset_one_hot.drop('Region', axis=1, inplace=True)\n",
    "\n",
    "dataset_one_hot = dataset_one_hot.join(temp_dataset)\n",
    "dataset_one_hot.head(5)"
   ]
  },
  {
   "cell_type": "code",
   "execution_count": null,
   "id": "fe01a283",
   "metadata": {},
   "outputs": [],
   "source": []
  }
 ],
 "metadata": {
  "kernelspec": {
   "display_name": "Python 3 (ipykernel)",
   "language": "python",
   "name": "python3"
  },
  "language_info": {
   "codemirror_mode": {
    "name": "ipython",
    "version": 3
   },
   "file_extension": ".py",
   "mimetype": "text/x-python",
   "name": "python",
   "nbconvert_exporter": "python",
   "pygments_lexer": "ipython3",
   "version": "3.10.7"
  }
 },
 "nbformat": 4,
 "nbformat_minor": 5
}
