{
 "cells": [
  {
   "cell_type": "markdown",
   "id": "8bb47fdb",
   "metadata": {},
   "source": [
    "POSTTEST 2\n",
    "KECERDASAN BUATAN\n",
    "\n",
    "NAMA    : RIANAWATI\n",
    "\n",
    "NIM     : 2009106132\n",
    "\n",
    "KELAS   : C2 2020"
   ]
  },
  {
   "cell_type": "code",
   "execution_count": 2,
   "id": "dfe3c9d5",
   "metadata": {},
   "outputs": [],
   "source": [
    "import pandas as pd\n",
    "import numpy as np\n",
    "from tabulate import tabulate"
   ]
  },
  {
   "cell_type": "markdown",
   "id": "43ac11c6",
   "metadata": {},
   "source": [
    "TAMPIL DATASET"
   ]
  },
  {
   "cell_type": "code",
   "execution_count": 3,
   "id": "d9dba172",
   "metadata": {},
   "outputs": [
    {
     "data": {
      "text/html": [
       "<div>\n",
       "<style scoped>\n",
       "    .dataframe tbody tr th:only-of-type {\n",
       "        vertical-align: middle;\n",
       "    }\n",
       "\n",
       "    .dataframe tbody tr th {\n",
       "        vertical-align: top;\n",
       "    }\n",
       "\n",
       "    .dataframe thead th {\n",
       "        text-align: right;\n",
       "    }\n",
       "</style>\n",
       "<table border=\"1\" class=\"dataframe\">\n",
       "  <thead>\n",
       "    <tr style=\"text-align: right;\">\n",
       "      <th></th>\n",
       "      <th>Unnamed: 0</th>\n",
       "      <th>release_year</th>\n",
       "    </tr>\n",
       "  </thead>\n",
       "  <tbody>\n",
       "    <tr>\n",
       "      <th>0</th>\n",
       "      <td>0</td>\n",
       "      <td>2020</td>\n",
       "    </tr>\n",
       "    <tr>\n",
       "      <th>1</th>\n",
       "      <td>1</td>\n",
       "      <td>2021</td>\n",
       "    </tr>\n",
       "    <tr>\n",
       "      <th>2</th>\n",
       "      <td>2</td>\n",
       "      <td>2021</td>\n",
       "    </tr>\n",
       "    <tr>\n",
       "      <th>3</th>\n",
       "      <td>3</td>\n",
       "      <td>2021</td>\n",
       "    </tr>\n",
       "    <tr>\n",
       "      <th>4</th>\n",
       "      <td>4</td>\n",
       "      <td>2021</td>\n",
       "    </tr>\n",
       "    <tr>\n",
       "      <th>...</th>\n",
       "      <td>...</td>\n",
       "      <td>...</td>\n",
       "    </tr>\n",
       "    <tr>\n",
       "      <th>8802</th>\n",
       "      <td>8802</td>\n",
       "      <td>2007</td>\n",
       "    </tr>\n",
       "    <tr>\n",
       "      <th>8803</th>\n",
       "      <td>8803</td>\n",
       "      <td>2018</td>\n",
       "    </tr>\n",
       "    <tr>\n",
       "      <th>8804</th>\n",
       "      <td>8804</td>\n",
       "      <td>2009</td>\n",
       "    </tr>\n",
       "    <tr>\n",
       "      <th>8805</th>\n",
       "      <td>8805</td>\n",
       "      <td>2006</td>\n",
       "    </tr>\n",
       "    <tr>\n",
       "      <th>8806</th>\n",
       "      <td>8806</td>\n",
       "      <td>2015</td>\n",
       "    </tr>\n",
       "  </tbody>\n",
       "</table>\n",
       "<p>8807 rows × 2 columns</p>\n",
       "</div>"
      ],
      "text/plain": [
       "      Unnamed: 0  release_year\n",
       "0              0          2020\n",
       "1              1          2021\n",
       "2              2          2021\n",
       "3              3          2021\n",
       "4              4          2021\n",
       "...          ...           ...\n",
       "8802        8802          2007\n",
       "8803        8803          2018\n",
       "8804        8804          2009\n",
       "8805        8805          2006\n",
       "8806        8806          2015\n",
       "\n",
       "[8807 rows x 2 columns]"
      ]
     },
     "execution_count": 3,
     "metadata": {},
     "output_type": "execute_result"
    }
   ],
   "source": [
    "dataset =pd.read_csv('netflix_titles.csv')\n",
    "dataset"
   ]
  },
  {
   "cell_type": "markdown",
   "id": "89b170a0",
   "metadata": {},
   "source": [
    "INFO DATASET"
   ]
  },
  {
   "cell_type": "code",
   "execution_count": 4,
   "id": "3588f256",
   "metadata": {},
   "outputs": [
    {
     "name": "stdout",
     "output_type": "stream",
     "text": [
      "<class 'pandas.core.frame.DataFrame'>\n",
      "RangeIndex: 8807 entries, 0 to 8806\n",
      "Data columns (total 2 columns):\n",
      " #   Column        Non-Null Count  Dtype\n",
      "---  ------        --------------  -----\n",
      " 0   Unnamed: 0    8807 non-null   int64\n",
      " 1   release_year  8807 non-null   int64\n",
      "dtypes: int64(2)\n",
      "memory usage: 137.7 KB\n"
     ]
    }
   ],
   "source": [
    "dataset.info()"
   ]
  },
  {
   "cell_type": "markdown",
   "id": "89d7ed56",
   "metadata": {},
   "source": [
    "JUMLAH RECORD"
   ]
  },
  {
   "cell_type": "code",
   "execution_count": 5,
   "id": "b0d1f867",
   "metadata": {},
   "outputs": [
    {
     "name": "stdout",
     "output_type": "stream",
     "text": [
      "Jumlah Record 8807\n"
     ]
    }
   ],
   "source": [
    "Jumlah_Record = len(dataset.index)\n",
    "print(\"Jumlah Record\", Jumlah_Record)"
   ]
  },
  {
   "cell_type": "markdown",
   "id": "1bd13c71",
   "metadata": {},
   "source": [
    "NAMA ATRIBUT"
   ]
  },
  {
   "cell_type": "code",
   "execution_count": 6,
   "id": "1dd61c71",
   "metadata": {},
   "outputs": [
    {
     "name": "stdout",
     "output_type": "stream",
     "text": [
      "Nama Atribut :\n",
      " Unnamed: 0\n",
      "release_year\n"
     ]
    }
   ],
   "source": [
    "Data_Atribut = list(dataset.columns)\n",
    "Nama_Atribut = \"\\n\".join(Data_Atribut)\n",
    "print(\"Nama Atribut :\\n\",Nama_Atribut)"
   ]
  },
  {
   "cell_type": "markdown",
   "id": "cadf24d2",
   "metadata": {},
   "source": [
    "JUMLAH ATRIBUT"
   ]
  },
  {
   "cell_type": "code",
   "execution_count": 7,
   "id": "2b8f4a32",
   "metadata": {},
   "outputs": [
    {
     "name": "stdout",
     "output_type": "stream",
     "text": [
      "Jumlah Atribut 2\n"
     ]
    }
   ],
   "source": [
    "Jumlah_Atribut = dataset.shape[1]\n",
    "print(\"Jumlah Atribut\", Jumlah_Atribut)"
   ]
  },
  {
   "cell_type": "markdown",
   "id": "3923b001",
   "metadata": {},
   "source": [
    "ATRIBUT TIPE OBJEK"
   ]
  },
  {
   "cell_type": "code",
   "execution_count": 8,
   "id": "a18f0442",
   "metadata": {},
   "outputs": [
    {
     "name": "stdout",
     "output_type": "stream",
     "text": [
      "Jumlah Atribut dengan tipe objek = 0\n"
     ]
    }
   ],
   "source": [
    "Objek = len(dataset.dtypes[dataset.dtypes =='object'])\n",
    "print(\"Jumlah Atribut dengan tipe objek =\", Objek)"
   ]
  },
  {
   "cell_type": "markdown",
   "id": "751ad9ec",
   "metadata": {},
   "source": [
    "ATRIBUT TIPE ANGKA"
   ]
  },
  {
   "cell_type": "code",
   "execution_count": 9,
   "id": "7f59b0b6",
   "metadata": {},
   "outputs": [
    {
     "name": "stdout",
     "output_type": "stream",
     "text": [
      "Jumlah Atribut dengan tipe Angka= 2\n"
     ]
    }
   ],
   "source": [
    "Int = len(dataset.dtypes[dataset.dtypes == 'int64'])\n",
    "Float = len(dataset.dtypes[dataset.dtypes == 'float64'])\n",
    "Angka = Int + Float\n",
    "print(\"Jumlah Atribut dengan tipe Angka=\", Angka)"
   ]
  },
  {
   "cell_type": "markdown",
   "id": "76644c86",
   "metadata": {},
   "source": [
    "ATRIBUT NILAI NULL"
   ]
  },
  {
   "cell_type": "code",
   "execution_count": 10,
   "id": "7cf59f83",
   "metadata": {},
   "outputs": [
    {
     "name": "stdout",
     "output_type": "stream",
     "text": [
      "Jumlah Atribut yang memiliki nilai null = 0\n"
     ]
    }
   ],
   "source": [
    "Null = dataset.isnull().any().sum()\n",
    "print(\"Jumlah Atribut yang memiliki nilai null =\", Null)"
   ]
  },
  {
   "cell_type": "markdown",
   "id": "80e428eb",
   "metadata": {},
   "source": [
    "TAMPILAN DALAM DICTIONARY"
   ]
  },
  {
   "cell_type": "code",
   "execution_count": 11,
   "id": "b762671d",
   "metadata": {},
   "outputs": [
    {
     "name": "stdout",
     "output_type": "stream",
     "text": [
      "+-----------------+----------------+-----------------------+----------------------+----------------------+\n",
      "|   Jumlah Record | Nama Atribut   |   Atribut Tipe Object |   Atribut Tipe Angka |   Atribut Nilai NULL |\n",
      "|-----------------+----------------+-----------------------+----------------------+----------------------|\n",
      "|               2 | Unnamed: 0     |                     0 |                    2 |                    0 |\n",
      "|                 | release_year   |                       |                      |                      |\n",
      "+-----------------+----------------+-----------------------+----------------------+----------------------+\n"
     ]
    }
   ],
   "source": [
    "Dict= {\n",
    "    \"Jumlah Record\" : [Jumlah_Atribut],\n",
    "    \"Nama Atribut\"  :[Nama_Atribut],\n",
    "    \"Atribut Tipe Object\": [Objek],\n",
    "    \"Atribut Tipe Angka\" : [Angka],\n",
    "    \"Atribut Nilai NULL\" : [Null],\n",
    "}\n",
    "tabel = pd.DataFrame(Dict)\n",
    "print(tabulate(tabel, headers ='keys', tablefmt='psql', showindex=False))"
   ]
  },
  {
   "cell_type": "markdown",
   "id": "ff6cf9dd",
   "metadata": {},
   "source": [
    "Rata-rata, Standar Deviasi, Nilai Maksimum, Q1, Q2, dan Q3 dari Atribut Bertipe Angka"
   ]
  },
  {
   "cell_type": "code",
   "execution_count": 12,
   "id": "9092443a",
   "metadata": {},
   "outputs": [
    {
     "data": {
      "text/html": [
       "<div>\n",
       "<style scoped>\n",
       "    .dataframe tbody tr th:only-of-type {\n",
       "        vertical-align: middle;\n",
       "    }\n",
       "\n",
       "    .dataframe tbody tr th {\n",
       "        vertical-align: top;\n",
       "    }\n",
       "\n",
       "    .dataframe thead th {\n",
       "        text-align: right;\n",
       "    }\n",
       "</style>\n",
       "<table border=\"1\" class=\"dataframe\">\n",
       "  <thead>\n",
       "    <tr style=\"text-align: right;\">\n",
       "      <th></th>\n",
       "      <th>Unnamed: 0</th>\n",
       "      <th>release_year</th>\n",
       "    </tr>\n",
       "  </thead>\n",
       "  <tbody>\n",
       "    <tr>\n",
       "      <th>Jumlah Data</th>\n",
       "      <td>8807.000000</td>\n",
       "      <td>8807.000000</td>\n",
       "    </tr>\n",
       "    <tr>\n",
       "      <th>mean</th>\n",
       "      <td>4403.000000</td>\n",
       "      <td>2014.180198</td>\n",
       "    </tr>\n",
       "    <tr>\n",
       "      <th>Standar Deviasi</th>\n",
       "      <td>2542.506244</td>\n",
       "      <td>8.819312</td>\n",
       "    </tr>\n",
       "    <tr>\n",
       "      <th>Nilai Minimum</th>\n",
       "      <td>0.000000</td>\n",
       "      <td>1925.000000</td>\n",
       "    </tr>\n",
       "    <tr>\n",
       "      <th>Q1</th>\n",
       "      <td>2201.500000</td>\n",
       "      <td>2013.000000</td>\n",
       "    </tr>\n",
       "    <tr>\n",
       "      <th>Q2</th>\n",
       "      <td>4403.000000</td>\n",
       "      <td>2017.000000</td>\n",
       "    </tr>\n",
       "    <tr>\n",
       "      <th>Q3</th>\n",
       "      <td>6604.500000</td>\n",
       "      <td>2019.000000</td>\n",
       "    </tr>\n",
       "    <tr>\n",
       "      <th>Nilai Maksimal</th>\n",
       "      <td>8806.000000</td>\n",
       "      <td>2021.000000</td>\n",
       "    </tr>\n",
       "  </tbody>\n",
       "</table>\n",
       "</div>"
      ],
      "text/plain": [
       "                  Unnamed: 0  release_year\n",
       "Jumlah Data      8807.000000   8807.000000\n",
       "mean             4403.000000   2014.180198\n",
       "Standar Deviasi  2542.506244      8.819312\n",
       "Nilai Minimum       0.000000   1925.000000\n",
       "Q1               2201.500000   2013.000000\n",
       "Q2               4403.000000   2017.000000\n",
       "Q3               6604.500000   2019.000000\n",
       "Nilai Maksimal   8806.000000   2021.000000"
      ]
     },
     "execution_count": 12,
     "metadata": {},
     "output_type": "execute_result"
    }
   ],
   "source": [
    "desc = dataset.describe()\n",
    "desc.rename(index = {\"count\" : \"Jumlah Data\", \"Mean\" : \"Rata Rata\", \"std\": \"Standar Deviasi\",\n",
    "                     \"min\" : \"Nilai Minimum\", \"25%\": \"Q1\", \"50%\": \"Q2\", \"75%\": \"Q3\", \"max\": \"Nilai Maksimal\"},inplace = True)\n",
    "desc"
   ]
  },
  {
   "cell_type": "markdown",
   "id": "492731cb",
   "metadata": {},
   "source": [
    "NILAI KORELASI"
   ]
  },
  {
   "cell_type": "code",
   "execution_count": 13,
   "id": "39c4cc7f",
   "metadata": {},
   "outputs": [
    {
     "data": {
      "text/html": [
       "<div>\n",
       "<style scoped>\n",
       "    .dataframe tbody tr th:only-of-type {\n",
       "        vertical-align: middle;\n",
       "    }\n",
       "\n",
       "    .dataframe tbody tr th {\n",
       "        vertical-align: top;\n",
       "    }\n",
       "\n",
       "    .dataframe thead th {\n",
       "        text-align: right;\n",
       "    }\n",
       "</style>\n",
       "<table border=\"1\" class=\"dataframe\">\n",
       "  <thead>\n",
       "    <tr style=\"text-align: right;\">\n",
       "      <th></th>\n",
       "      <th>Unnamed: 0</th>\n",
       "      <th>release_year</th>\n",
       "    </tr>\n",
       "  </thead>\n",
       "  <tbody>\n",
       "    <tr>\n",
       "      <th>Unnamed: 0</th>\n",
       "      <td>1.000000</td>\n",
       "      <td>-0.246713</td>\n",
       "    </tr>\n",
       "    <tr>\n",
       "      <th>release_year</th>\n",
       "      <td>-0.246713</td>\n",
       "      <td>1.000000</td>\n",
       "    </tr>\n",
       "  </tbody>\n",
       "</table>\n",
       "</div>"
      ],
      "text/plain": [
       "              Unnamed: 0  release_year\n",
       "Unnamed: 0      1.000000     -0.246713\n",
       "release_year   -0.246713      1.000000"
      ]
     },
     "execution_count": 13,
     "metadata": {},
     "output_type": "execute_result"
    }
   ],
   "source": [
    "dataset.corr()"
   ]
  },
  {
   "cell_type": "markdown",
   "id": "cc3f577f",
   "metadata": {},
   "source": [
    "ATRIBUT BERTIPE ANGKA MENJADI DESIMAL 3 ANGKA DIBELAKANG KOMA"
   ]
  },
  {
   "cell_type": "code",
   "execution_count": 14,
   "id": "1b2b996a",
   "metadata": {},
   "outputs": [
    {
     "data": {
      "text/plain": [
       "0       2.020\n",
       "1       2.021\n",
       "2       2.021\n",
       "3       2.021\n",
       "4       2.021\n",
       "        ...  \n",
       "8802    2.007\n",
       "8803    2.018\n",
       "8804    2.009\n",
       "8805    2.006\n",
       "8806    2.015\n",
       "Name: release_year, Length: 8807, dtype: float64"
      ]
     },
     "execution_count": 14,
     "metadata": {},
     "output_type": "execute_result"
    }
   ],
   "source": [
    "dataset['release_year']*0.001"
   ]
  },
  {
   "cell_type": "markdown",
   "id": "cfa26e3a",
   "metadata": {},
   "source": [
    "10 RECORD PERTAMA BERTIPE ANGKA"
   ]
  },
  {
   "cell_type": "code",
   "execution_count": 15,
   "id": "8181296a",
   "metadata": {},
   "outputs": [
    {
     "data": {
      "text/html": [
       "<div>\n",
       "<style scoped>\n",
       "    .dataframe tbody tr th:only-of-type {\n",
       "        vertical-align: middle;\n",
       "    }\n",
       "\n",
       "    .dataframe tbody tr th {\n",
       "        vertical-align: top;\n",
       "    }\n",
       "\n",
       "    .dataframe thead th {\n",
       "        text-align: right;\n",
       "    }\n",
       "</style>\n",
       "<table border=\"1\" class=\"dataframe\">\n",
       "  <thead>\n",
       "    <tr style=\"text-align: right;\">\n",
       "      <th></th>\n",
       "      <th>Unnamed: 0</th>\n",
       "      <th>release_year</th>\n",
       "    </tr>\n",
       "  </thead>\n",
       "  <tbody>\n",
       "    <tr>\n",
       "      <th>0</th>\n",
       "      <td>0</td>\n",
       "      <td>2020</td>\n",
       "    </tr>\n",
       "    <tr>\n",
       "      <th>1</th>\n",
       "      <td>1</td>\n",
       "      <td>2021</td>\n",
       "    </tr>\n",
       "    <tr>\n",
       "      <th>2</th>\n",
       "      <td>2</td>\n",
       "      <td>2021</td>\n",
       "    </tr>\n",
       "    <tr>\n",
       "      <th>3</th>\n",
       "      <td>3</td>\n",
       "      <td>2021</td>\n",
       "    </tr>\n",
       "    <tr>\n",
       "      <th>4</th>\n",
       "      <td>4</td>\n",
       "      <td>2021</td>\n",
       "    </tr>\n",
       "    <tr>\n",
       "      <th>5</th>\n",
       "      <td>5</td>\n",
       "      <td>2021</td>\n",
       "    </tr>\n",
       "    <tr>\n",
       "      <th>6</th>\n",
       "      <td>6</td>\n",
       "      <td>2021</td>\n",
       "    </tr>\n",
       "    <tr>\n",
       "      <th>7</th>\n",
       "      <td>7</td>\n",
       "      <td>1993</td>\n",
       "    </tr>\n",
       "    <tr>\n",
       "      <th>8</th>\n",
       "      <td>8</td>\n",
       "      <td>2021</td>\n",
       "    </tr>\n",
       "    <tr>\n",
       "      <th>9</th>\n",
       "      <td>9</td>\n",
       "      <td>2021</td>\n",
       "    </tr>\n",
       "  </tbody>\n",
       "</table>\n",
       "</div>"
      ],
      "text/plain": [
       "   Unnamed: 0  release_year\n",
       "0           0          2020\n",
       "1           1          2021\n",
       "2           2          2021\n",
       "3           3          2021\n",
       "4           4          2021\n",
       "5           5          2021\n",
       "6           6          2021\n",
       "7           7          1993\n",
       "8           8          2021\n",
       "9           9          2021"
      ]
     },
     "execution_count": 15,
     "metadata": {},
     "output_type": "execute_result"
    }
   ],
   "source": [
    "numerics = ['int64', 'float64']\n",
    "number = dataset.select_dtypes(include=numerics).copy()\n",
    "number.head(10)"
   ]
  },
  {
   "cell_type": "markdown",
   "id": "38a98416",
   "metadata": {},
   "source": [
    "MENYIMPAN DATASET DENGAN ATRIBUT BERTIPE ANGKA KE DALAM FILE CSV"
   ]
  },
  {
   "cell_type": "code",
   "execution_count": 17,
   "id": "7c5954fa",
   "metadata": {},
   "outputs": [],
   "source": [
    "number.to_csv('netflix_angka.csv')"
   ]
  },
  {
   "cell_type": "code",
   "execution_count": null,
   "id": "3fe49d1f",
   "metadata": {},
   "outputs": [],
   "source": []
  }
 ],
 "metadata": {
  "kernelspec": {
   "display_name": "Python 3 (ipykernel)",
   "language": "python",
   "name": "python3"
  },
  "language_info": {
   "codemirror_mode": {
    "name": "ipython",
    "version": 3
   },
   "file_extension": ".py",
   "mimetype": "text/x-python",
   "name": "python",
   "nbconvert_exporter": "python",
   "pygments_lexer": "ipython3",
   "version": "3.10.7"
  }
 },
 "nbformat": 4,
 "nbformat_minor": 5
}
