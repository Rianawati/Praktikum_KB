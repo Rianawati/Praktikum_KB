{
 "cells": [
  {
   "cell_type": "markdown",
   "id": "b501eee0",
   "metadata": {},
   "source": [
    "# Posttest 8\n",
    "\n",
    "        Nama : Rianawati\n",
    "        NIM  : 2009106132\n",
    "        Kelas: C2 20"
   ]
  },
  {
   "cell_type": "markdown",
   "id": "2a6f056d",
   "metadata": {},
   "source": [
    "Mengimport Package yang dibutuhkan"
   ]
  },
  {
   "cell_type": "code",
   "execution_count": 1,
   "id": "df4763fc",
   "metadata": {},
   "outputs": [],
   "source": [
    "import tensorflow as tf\n",
    "import tensorflow.keras.datasets as tfds\n",
    "import matplotlib.pyplot as plt\n",
    "import numpy as np\n",
    "import pandas as pd"
   ]
  },
  {
   "cell_type": "markdown",
   "id": "12db20e2",
   "metadata": {},
   "source": [
    "Me-load dataset"
   ]
  },
  {
   "cell_type": "code",
   "execution_count": null,
   "id": "261cd3ac",
   "metadata": {},
   "outputs": [],
   "source": [
    "(x_train_raw, y_train_raw), (x_test_raw, y_test_raw) = tfds.fashion_mnist.load_data()"
   ]
  },
  {
   "cell_type": "markdown",
   "id": "4a395b8b",
   "metadata": {},
   "source": [
    "Menampilkan panjang data testing dan training"
   ]
  },
  {
   "cell_type": "code",
   "execution_count": 3,
   "id": "beb4056a",
   "metadata": {},
   "outputs": [
    {
     "name": "stdout",
     "output_type": "stream",
     "text": [
      "panjang x train : 60000\n",
      "panjang y train : 60000\n",
      "panjang x test : 10000\n",
      "panjang y test : 10000\n"
     ]
    }
   ],
   "source": [
    "print(f'panjang x train : {len(x_train_raw)}',\n",
    "    f'panjang y train : {len(y_train_raw)}',\n",
    "    f'panjang x test : {len(x_test_raw)}',\n",
    "    f'panjang y test : {len(y_test_raw)}',\n",
    "    sep='\\n')"
   ]
  },
  {
   "cell_type": "markdown",
   "id": "f4e7e51f",
   "metadata": {},
   "source": [
    "Menampilkan gambar yang ke-12"
   ]
  },
  {
   "cell_type": "code",
   "execution_count": 5,
   "id": "68539afc",
   "metadata": {},
   "outputs": [
    {
     "data": {
      "text/plain": [
       "<matplotlib.image.AxesImage at 0x101778bc700>"
      ]
     },
     "execution_count": 5,
     "metadata": {},
     "output_type": "execute_result"
    },
    {
     "data": {
      "image/png": "[encoded data removed]",
      "text/plain": [
       "<Figure size 640x480 with 1 Axes>"
      ]
     },
     "metadata": {},
     "output_type": "display_data"
    }
   ],
   "source": [
    "plt.imshow(x_train_raw[12])"
   ]
  },
  {
   "cell_type": "code",
   "execution_count": 6,
   "id": "c2dbb193",
   "metadata": {},
   "outputs": [
    {
     "name": "stdout",
     "output_type": "stream",
     "text": [
      "[0. 0. 0. 0. 0. 0. 0. 0. 0. 1.]\n"
     ]
    }
   ],
   "source": [
    "num_class = len(np.unique(y_train_raw))\n",
    "y_train = tf.keras.utils.to_categorical(y_train_raw, num_class)\n",
    "y_test = tf.keras.utils.to_categorical(y_test_raw, num_class)\n",
    "print(y_train[0])"
   ]
  },
  {
   "cell_type": "code",
   "execution_count": 7,
   "id": "807f8874",
   "metadata": {},
   "outputs": [
    {
     "data": {
      "text/plain": [
       "(60000, 28, 28)"
      ]
     },
     "execution_count": 7,
     "metadata": {},
     "output_type": "execute_result"
    }
   ],
   "source": [
    "x_train_raw.shape"
   ]
  },
  {
   "cell_type": "markdown",
   "id": "ab32006a",
   "metadata": {},
   "source": [
    "MengReshape Gambar"
   ]
  },
  {
   "cell_type": "code",
   "execution_count": 8,
   "id": "f796a6da",
   "metadata": {},
   "outputs": [],
   "source": [
    "x_train = tf.reshape(x_train_raw, [60000, 784])\n",
    "x_test = tf.reshape(x_test_raw, [10000, 784])"
   ]
  },
  {
   "cell_type": "code",
   "execution_count": 9,
   "id": "2de17e51",
   "metadata": {},
   "outputs": [],
   "source": [
    "x_train = tf.cast(x_train, tf.float32)/300\n",
    "x_test = tf.cast(x_test, tf.float32)/300"
   ]
  },
  {
   "cell_type": "markdown",
   "id": "043d39f7",
   "metadata": {},
   "source": [
    "Membuat model"
   ]
  },
  {
   "cell_type": "code",
   "execution_count": 10,
   "id": "6b30f1fb",
   "metadata": {},
   "outputs": [],
   "source": [
    "model = tf.keras.Sequential([\n",
    "    tf.keras.layers.Dense(32, activation='relu', input_dim = 784),\n",
    "    tf.keras.layers.Dense(32, activation='relu'),\n",
    "    tf.keras.layers.Dense(num_class, activation='softmax')\n",
    "])"
   ]
  },
  {
   "cell_type": "code",
   "execution_count": 11,
   "id": "8f821615",
   "metadata": {},
   "outputs": [],
   "source": [
    "model.compile(\n",
    "    optimizer=tf.keras.optimizers.Adam(),\n",
    "    loss=tf.keras.losses.categorical_crossentropy,\n",
    "    metrics=['accuracy']\n",
    ")"
   ]
  },
  {
   "cell_type": "markdown",
   "id": "454f53ba",
   "metadata": {},
   "source": [
    "Training Model"
   ]
  },
  {
   "cell_type": "code",
   "execution_count": 14,
   "id": "c5787724",
   "metadata": {},
   "outputs": [
    {
     "name": "stdout",
     "output_type": "stream",
     "text": [
      "Epoch 1/30\n",
      "10/10 - 1s - loss: 0.4319 - accuracy: 0.8514 - val_loss: 0.4621 - val_accuracy: 0.8401 - 736ms/epoch - 74ms/step\n",
      "Epoch 2/30\n",
      "10/10 - 0s - loss: 0.4275 - accuracy: 0.8521 - val_loss: 0.4625 - val_accuracy: 0.8400 - 499ms/epoch - 50ms/step\n",
      "Epoch 3/30\n",
      "10/10 - 0s - loss: 0.4241 - accuracy: 0.8534 - val_loss: 0.4583 - val_accuracy: 0.8404 - 484ms/epoch - 48ms/step\n",
      "Epoch 4/30\n",
      "10/10 - 0s - loss: 0.4185 - accuracy: 0.8551 - val_loss: 0.4514 - val_accuracy: 0.8426 - 476ms/epoch - 48ms/step\n",
      "Epoch 5/30\n",
      "10/10 - 1s - loss: 0.4131 - accuracy: 0.8575 - val_loss: 0.4480 - val_accuracy: 0.8446 - 502ms/epoch - 50ms/step\n",
      "Epoch 6/30\n",
      "10/10 - 1s - loss: 0.4098 - accuracy: 0.8583 - val_loss: 0.4468 - val_accuracy: 0.8447 - 507ms/epoch - 51ms/step\n",
      "Epoch 7/30\n",
      "10/10 - 1s - loss: 0.4060 - accuracy: 0.8597 - val_loss: 0.4432 - val_accuracy: 0.8458 - 556ms/epoch - 56ms/step\n",
      "Epoch 8/30\n",
      "10/10 - 1s - loss: 0.4025 - accuracy: 0.8613 - val_loss: 0.4429 - val_accuracy: 0.8463 - 529ms/epoch - 53ms/step\n",
      "Epoch 9/30\n",
      "10/10 - 0s - loss: 0.3998 - accuracy: 0.8616 - val_loss: 0.4375 - val_accuracy: 0.8478 - 484ms/epoch - 48ms/step\n",
      "Epoch 10/30\n",
      "10/10 - 0s - loss: 0.3967 - accuracy: 0.8629 - val_loss: 0.4362 - val_accuracy: 0.8472 - 498ms/epoch - 50ms/step\n",
      "Epoch 11/30\n",
      "10/10 - 1s - loss: 0.3939 - accuracy: 0.8627 - val_loss: 0.4340 - val_accuracy: 0.8482 - 510ms/epoch - 51ms/step\n",
      "Epoch 12/30\n",
      "10/10 - 0s - loss: 0.3899 - accuracy: 0.8649 - val_loss: 0.4319 - val_accuracy: 0.8506 - 487ms/epoch - 49ms/step\n",
      "Epoch 13/30\n",
      "10/10 - 0s - loss: 0.3881 - accuracy: 0.8658 - val_loss: 0.4282 - val_accuracy: 0.8494 - 483ms/epoch - 48ms/step\n",
      "Epoch 14/30\n",
      "10/10 - 0s - loss: 0.3841 - accuracy: 0.8668 - val_loss: 0.4252 - val_accuracy: 0.8515 - 484ms/epoch - 48ms/step\n",
      "Epoch 15/30\n",
      "10/10 - 1s - loss: 0.3809 - accuracy: 0.8677 - val_loss: 0.4250 - val_accuracy: 0.8525 - 501ms/epoch - 50ms/step\n",
      "Epoch 16/30\n",
      "10/10 - 1s - loss: 0.3801 - accuracy: 0.8675 - val_loss: 0.4223 - val_accuracy: 0.8536 - 501ms/epoch - 50ms/step\n",
      "Epoch 17/30\n",
      "10/10 - 0s - loss: 0.3779 - accuracy: 0.8681 - val_loss: 0.4231 - val_accuracy: 0.8505 - 489ms/epoch - 49ms/step\n",
      "Epoch 18/30\n",
      "10/10 - 0s - loss: 0.3754 - accuracy: 0.8695 - val_loss: 0.4227 - val_accuracy: 0.8534 - 486ms/epoch - 49ms/step\n",
      "Epoch 19/30\n",
      "10/10 - 0s - loss: 0.3732 - accuracy: 0.8707 - val_loss: 0.4177 - val_accuracy: 0.8557 - 488ms/epoch - 49ms/step\n",
      "Epoch 20/30\n",
      "10/10 - 0s - loss: 0.3702 - accuracy: 0.8718 - val_loss: 0.4159 - val_accuracy: 0.8565 - 489ms/epoch - 49ms/step\n",
      "Epoch 21/30\n",
      "10/10 - 0s - loss: 0.3687 - accuracy: 0.8722 - val_loss: 0.4154 - val_accuracy: 0.8565 - 481ms/epoch - 48ms/step\n",
      "Epoch 22/30\n",
      "10/10 - 0s - loss: 0.3658 - accuracy: 0.8734 - val_loss: 0.4134 - val_accuracy: 0.8562 - 491ms/epoch - 49ms/step\n",
      "Epoch 23/30\n",
      "10/10 - 0s - loss: 0.3641 - accuracy: 0.8728 - val_loss: 0.4124 - val_accuracy: 0.8569 - 487ms/epoch - 49ms/step\n",
      "Epoch 24/30\n",
      "10/10 - 0s - loss: 0.3635 - accuracy: 0.8732 - val_loss: 0.4121 - val_accuracy: 0.8558 - 494ms/epoch - 49ms/step\n",
      "Epoch 25/30\n",
      "10/10 - 0s - loss: 0.3616 - accuracy: 0.8746 - val_loss: 0.4085 - val_accuracy: 0.8578 - 484ms/epoch - 48ms/step\n",
      "Epoch 26/30\n",
      "10/10 - 1s - loss: 0.3590 - accuracy: 0.8751 - val_loss: 0.4068 - val_accuracy: 0.8589 - 510ms/epoch - 51ms/step\n",
      "Epoch 27/30\n",
      "10/10 - 0s - loss: 0.3580 - accuracy: 0.8762 - val_loss: 0.4059 - val_accuracy: 0.8591 - 479ms/epoch - 48ms/step\n",
      "Epoch 28/30\n",
      "10/10 - 1s - loss: 0.3566 - accuracy: 0.8757 - val_loss: 0.4070 - val_accuracy: 0.8579 - 501ms/epoch - 50ms/step\n",
      "Epoch 29/30\n",
      "10/10 - 0s - loss: 0.3541 - accuracy: 0.8769 - val_loss: 0.4041 - val_accuracy: 0.8592 - 483ms/epoch - 48ms/step\n",
      "Epoch 30/30\n",
      "10/10 - 0s - loss: 0.3526 - accuracy: 0.8771 - val_loss: 0.4069 - val_accuracy: 0.8565 - 475ms/epoch - 47ms/step\n"
     ]
    }
   ],
   "source": [
    "history = model.fit(\n",
    "    x_train, y_train,\n",
    "    epochs =30, steps_per_epoch=10,\n",
    "    verbose =2,\n",
    "    validation_data=(x_test, y_test)\n",
    ")"
   ]
  },
  {
   "cell_type": "markdown",
   "id": "c4319f6b",
   "metadata": {},
   "source": [
    "History"
   ]
  },
  {
   "cell_type": "code",
   "execution_count": 15,
   "id": "e65f6dcc",
   "metadata": {},
   "outputs": [
    {
     "data": {
      "image/png": "[encoded data removed]",
      "text/plain": [
       "<Figure size 640x480 with 1 Axes>"
      ]
     },
     "metadata": {},
     "output_type": "display_data"
    }
   ],
   "source": [
    "nilai_x = range(len(history.history['accuracy']))\n",
    "plt.plot(nilai_x, history.history['accuracy'],label='Training')\n",
    "plt.plot(nilai_x, history.history['val_accuracy'],label='Validation')\n",
    "plt.legend()\n",
    "plt.show()"
   ]
  },
  {
   "cell_type": "code",
   "execution_count": 16,
   "id": "37ef2fb7",
   "metadata": {},
   "outputs": [],
   "source": [
    "model.save('model/model.h5')"
   ]
  },
  {
   "cell_type": "code",
   "execution_count": 17,
   "id": "bdc3ff38",
   "metadata": {},
   "outputs": [
    {
     "name": "stdout",
     "output_type": "stream",
     "text": [
      "Model: \"sequential\"\n",
      "_________________________________________________________________\n",
      " Layer (type)                Output Shape              Param #   \n",
      "=================================================================\n",
      " dense (Dense)               (None, 32)                25120     \n",
      "                                                                 \n",
      " dense_1 (Dense)             (None, 32)                1056      \n",
      "                                                                 \n",
      " dense_2 (Dense)             (None, 10)                330       \n",
      "                                                                 \n",
      "=================================================================\n",
      "Total params: 26,506\n",
      "Trainable params: 26,506\n",
      "Non-trainable params: 0\n",
      "_________________________________________________________________\n"
     ]
    }
   ],
   "source": [
    "model_saved = tf.keras.models.load_model('model/model.h5')\n",
    "model_saved.summary()"
   ]
  },
  {
   "cell_type": "markdown",
   "id": "dad732aa",
   "metadata": {},
   "source": [
    "mengEvaluasi Model"
   ]
  },
  {
   "cell_type": "code",
   "execution_count": 18,
   "id": "295552fb",
   "metadata": {},
   "outputs": [
    {
     "name": "stdout",
     "output_type": "stream",
     "text": [
      "313/313 [==============================] - 1s 1ms/step - loss: 0.4069 - accuracy: 0.8565\n"
     ]
    },
    {
     "data": {
      "text/plain": [
       "[0.40690889954566956, 0.8565000295639038]"
      ]
     },
     "execution_count": 18,
     "metadata": {},
     "output_type": "execute_result"
    }
   ],
   "source": [
    "model_saved.evaluate(x_test, y_test, batch_size=32)"
   ]
  },
  {
   "cell_type": "code",
   "execution_count": 19,
   "id": "b46981c0",
   "metadata": {},
   "outputs": [
    {
     "name": "stdout",
     "output_type": "stream",
     "text": [
      "1875/1875 [==============================] - 2s 1ms/step\n"
     ]
    }
   ],
   "source": [
    "hasil = model_saved.predict(x_train)"
   ]
  },
  {
   "cell_type": "code",
   "execution_count": 20,
   "id": "a62d0305",
   "metadata": {},
   "outputs": [
    {
     "data": {
      "text/plain": [
       "array([[1.39181875e-08, 5.11151572e-11, 6.18957177e-11, ...,\n",
       "        1.85124855e-03, 3.47501569e-04, 9.97764587e-01],\n",
       "       [9.84844029e-01, 8.65722484e-07, 1.30669228e-04, ...,\n",
       "        5.46548473e-10, 1.35477137e-06, 8.01188715e-09],\n",
       "       [3.99510682e-01, 4.82765362e-02, 3.77281606e-02, ...,\n",
       "        1.86580559e-03, 7.72751123e-03, 5.95745631e-04],\n",
       "       ...,\n",
       "       [2.47036602e-04, 3.04370944e-04, 1.03448227e-04, ...,\n",
       "        1.62586261e-07, 2.35167008e-05, 1.26845165e-07],\n",
       "       [6.11429334e-01, 7.21833808e-03, 1.32488102e-01, ...,\n",
       "        1.63300676e-04, 8.75726808e-03, 6.73961040e-05],\n",
       "       [5.12411410e-04, 6.21059689e-06, 3.28490423e-05, ...,\n",
       "        1.85711216e-03, 5.97068225e-04, 2.30575359e-04]], dtype=float32)"
      ]
     },
     "execution_count": 20,
     "metadata": {},
     "output_type": "execute_result"
    }
   ],
   "source": [
    "hasil"
   ]
  },
  {
   "cell_type": "code",
   "execution_count": 21,
   "id": "46128157",
   "metadata": {},
   "outputs": [
    {
     "data": {
      "text/plain": [
       "TensorShape([60000, 784])"
      ]
     },
     "execution_count": 21,
     "metadata": {},
     "output_type": "execute_result"
    }
   ],
   "source": [
    "x_train.shape"
   ]
  },
  {
   "cell_type": "code",
   "execution_count": 22,
   "id": "67602654",
   "metadata": {},
   "outputs": [
    {
     "data": {
      "text/plain": [
       "(60000, 10)"
      ]
     },
     "execution_count": 22,
     "metadata": {},
     "output_type": "execute_result"
    }
   ],
   "source": [
    "hasil.shape"
   ]
  },
  {
   "cell_type": "code",
   "execution_count": 23,
   "id": "31911dd3",
   "metadata": {},
   "outputs": [
    {
     "data": {
      "text/plain": [
       "0"
      ]
     },
     "execution_count": 23,
     "metadata": {},
     "output_type": "execute_result"
    }
   ],
   "source": [
    "tf.argmax(hasil[2]).numpy()"
   ]
  },
  {
   "cell_type": "code",
   "execution_count": 24,
   "id": "a2bf8a8a",
   "metadata": {},
   "outputs": [
    {
     "data": {
      "text/plain": [
       "array([0, 1, 2, 3, 4, 5, 6, 7, 8, 9], dtype=uint8)"
      ]
     },
     "execution_count": 24,
     "metadata": {},
     "output_type": "execute_result"
    }
   ],
   "source": [
    "np.unique(y_train_raw)"
   ]
  },
  {
   "cell_type": "code",
   "execution_count": 25,
   "id": "a2511ae5",
   "metadata": {},
   "outputs": [
    {
     "data": {
      "text/plain": [
       "<matplotlib.image.AxesImage at 0x101005403d0>"
      ]
     },
     "execution_count": 25,
     "metadata": {},
     "output_type": "execute_result"
    },
    {
     "data": {
      "image/png": "[encoded data removed]",
      "text/plain": [
       "<Figure size 640x480 with 1 Axes>"
      ]
     },
     "metadata": {},
     "output_type": "display_data"
    }
   ],
   "source": [
    "plt.imshow(x_train_raw[1])"
   ]
  },
  {
   "cell_type": "code",
   "execution_count": null,
   "id": "12bb997f",
   "metadata": {},
   "outputs": [],
   "source": []
  }
 ],
 "metadata": {
  "kernelspec": {
   "display_name": "Python 3 (ipykernel)",
   "language": "python",
   "name": "python3"
  },
  "language_info": {
   "codemirror_mode": {
    "name": "ipython",
    "version": 3
   },
   "file_extension": ".py",
   "mimetype": "text/x-python",
   "name": "python",
   "nbconvert_exporter": "python",
   "pygments_lexer": "ipython3",
   "version": "3.10.7"
  }
 },
 "nbformat": 4,
 "nbformat_minor": 5
}
