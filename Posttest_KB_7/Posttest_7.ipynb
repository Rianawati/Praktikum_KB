{
 "cells": [
  {
   "cell_type": "markdown",
   "metadata": {},
   "source": [
    "        NAMA     : Rianawati\n",
    "\n",
    "        NIM      : 2009106132\n",
    "\n",
    "        KELAS    : C2 2020\n",
    "        \n",
    "        POSTTEST : 7"
   ]
  },
  {
   "cell_type": "code",
   "execution_count": 3,
   "metadata": {},
   "outputs": [],
   "source": [
    "import tensorflow as tf\n",
    "import numpy as np"
   ]
  },
  {
   "cell_type": "markdown",
   "metadata": {},
   "source": [
    "Membuat sebuah tensor dengan shape(5,5) dengan nilai random yang disimpan dalam variable random_tensor"
   ]
  },
  {
   "cell_type": "code",
   "execution_count": 5,
   "metadata": {},
   "outputs": [
    {
     "data": {
      "text/plain": [
       "array([[ 0.38067555,  6.9566846 ,  2.7012134 ,  8.286985  ,  2.4996166 ],\n",
       "       [ 2.949161  ,  0.56444025, -6.7067976 , 11.359377  , -8.052252  ],\n",
       "       [-5.3365145 , -4.3609943 , -1.901869  ,  6.7036514 ,  1.6917589 ],\n",
       "       [-8.421263  ,  5.0711565 , -5.25546   , -2.4346762 , -2.8370433 ],\n",
       "       [ 6.741592  , -1.4872496 ,  4.6957183 , -0.6485033 , -8.052682  ]],\n",
       "      dtype=float32)"
      ]
     },
     "execution_count": 5,
     "metadata": {},
     "output_type": "execute_result"
    }
   ],
   "source": [
    "random_tensor = tf.random.normal([5,5], mean=2., stddev=5., seed=1)\n",
    "random_tensor.numpy()"
   ]
  },
  {
   "cell_type": "code",
   "execution_count": 7,
   "metadata": {},
   "outputs": [
    {
     "data": {
      "text/plain": [
       "array([[ 1,  3,  5,  7,  9],\n",
       "       [11, 13, 15, 17, 19],\n",
       "       [21, 23, 25, 27, 29],\n",
       "       [31, 33, 35, 37, 39],\n",
       "       [41, 43, 45, 47, 49]])"
      ]
     },
     "execution_count": 7,
     "metadata": {},
     "output_type": "execute_result"
    }
   ],
   "source": [
    "list_utt = [[1,3,5,7,9],[11,13,15,17,19],[21,23,25,27,29],[31,33,35,37,39],[41,43,45,47,49]]\n",
    "\n",
    "utt = tf.convert_to_tensor(list_utt)\n",
    "utt.numpy()"
   ]
  },
  {
   "cell_type": "code",
   "execution_count": 8,
   "metadata": {},
   "outputs": [
    {
     "data": {
      "text/plain": [
       "array([[[-1.1967124 ,  1.7779316 , -0.96410954,  0.22111323,\n",
       "          1.7190084 ],\n",
       "        [-0.20572706, -2.3994057 , -1.0976545 ,  0.77792674,\n",
       "         -1.7546837 ],\n",
       "        [ 0.3925101 ,  0.753727  , -0.22419482,  1.314287  ,\n",
       "         -0.1095557 ],\n",
       "        [-0.2591979 , -1.74597   ,  0.17157772, -1.6621153 ,\n",
       "         -0.12673627],\n",
       "        [ 0.48999238, -0.9985645 ,  0.0522005 , -0.09672368,\n",
       "          0.18744488]],\n",
       "\n",
       "       [[ 1.0566874 , -0.27149794,  1.6948912 ,  0.3358854 ,\n",
       "         -0.23771721],\n",
       "        [ 0.6416269 ,  0.70454955,  0.23954625, -0.03466679,\n",
       "          0.27049986],\n",
       "        [-0.03485564, -0.75662196, -1.1617069 , -1.3749162 ,\n",
       "          0.4023056 ],\n",
       "        [-1.3571919 ,  1.4796585 , -1.2887549 , -0.55407476,\n",
       "          1.610371  ],\n",
       "        [ 1.5021403 ,  1.1562364 ,  0.20301414,  0.86701465,\n",
       "         -1.7712919 ]],\n",
       "\n",
       "       [[-0.88632494, -1.4218055 ,  2.0979912 ,  1.2904603 ,\n",
       "          0.6163971 ],\n",
       "        [ 0.05511823, -0.19209193, -0.1272935 , -0.22710748,\n",
       "         -0.85296255],\n",
       "        [-1.195003  ,  1.1256335 ,  0.06356224,  0.28482234,\n",
       "         -0.21249948],\n",
       "        [-1.734836  , -0.5051633 , -2.0535378 ,  0.5615312 ,\n",
       "          1.1079642 ],\n",
       "        [ 0.26954344, -0.28183907, -1.1137788 , -0.5206416 ,\n",
       "         -0.31001183]],\n",
       "\n",
       "       [[-0.6312864 , -1.3985616 , -0.2850355 , -0.9285845 ,\n",
       "         -0.9318297 ],\n",
       "        [-1.0202675 , -0.73832935, -1.1400516 , -0.91723055,\n",
       "         -0.8943347 ],\n",
       "        [ 0.74076474,  0.8275649 ,  2.0252597 , -0.56023145,\n",
       "         -0.8277063 ],\n",
       "        [ 1.9731284 ,  0.08290863, -1.8079661 ,  0.1552416 ,\n",
       "         -0.3584762 ],\n",
       "        [ 1.0385709 ,  0.8378186 ,  0.50289184,  0.1298136 ,\n",
       "         -1.4118444 ]],\n",
       "\n",
       "       [[-0.6478343 , -2.0872893 ,  1.0376308 , -0.10728376,\n",
       "         -0.4329643 ],\n",
       "        [-0.3260126 ,  0.25361913, -1.207336  , -0.53675514,\n",
       "          1.108436  ],\n",
       "        [ 0.72227556,  1.4923656 ,  1.2073739 ,  0.5744463 ,\n",
       "          0.681078  ],\n",
       "        [ 0.6001366 ,  0.64327574,  0.27572367, -0.18803391,\n",
       "          0.3275575 ],\n",
       "        [-0.6536963 , -0.8894422 , -0.59655833, -1.8874145 ,\n",
       "          1.722976  ]]], dtype=float32)"
      ]
     },
     "execution_count": 8,
     "metadata": {},
     "output_type": "execute_result"
    }
   ],
   "source": [
    "slicing = tf.random.normal([5,5,5])\n",
    "slicing.numpy()"
   ]
  },
  {
   "cell_type": "code",
   "execution_count": 16,
   "metadata": {},
   "outputs": [
    {
     "data": {
      "text/plain": [
       "<tf.Tensor: shape=(), dtype=float32, numpy=0.1552416>"
      ]
     },
     "execution_count": 16,
     "metadata": {},
     "output_type": "execute_result"
    }
   ],
   "source": [
    "slicing[3,3,3]"
   ]
  },
  {
   "cell_type": "code",
   "execution_count": 17,
   "metadata": {},
   "outputs": [
    {
     "data": {
      "text/plain": [
       "<tf.Tensor: shape=(5, 5), dtype=float32, numpy=\n",
       "array([[-0.6312864 , -1.3985616 , -0.2850355 , -0.9285845 , -0.9318297 ],\n",
       "       [-1.0202675 , -0.73832935, -1.1400516 , -0.91723055, -0.8943347 ],\n",
       "       [ 0.74076474,  0.8275649 ,  2.0252597 , -0.56023145, -0.8277063 ],\n",
       "       [ 1.9731284 ,  0.08290863, -1.8079661 ,  0.1552416 , -0.3584762 ],\n",
       "       [ 1.0385709 ,  0.8378186 ,  0.50289184,  0.1298136 , -1.4118444 ]],\n",
       "      dtype=float32)>"
      ]
     },
     "execution_count": 17,
     "metadata": {},
     "output_type": "execute_result"
    }
   ],
   "source": [
    "slicing[3]"
   ]
  },
  {
   "cell_type": "code",
   "execution_count": 18,
   "metadata": {},
   "outputs": [
    {
     "data": {
      "text/plain": [
       "array([[[-0.6312864 , -1.3985616 , -0.2850355 , -0.9285845 ,\n",
       "         -0.9318297 ],\n",
       "        [-1.0202675 , -0.73832935, -1.1400516 , -0.91723055,\n",
       "         -0.8943347 ],\n",
       "        [ 0.74076474,  0.8275649 ,  2.0252597 , -0.56023145,\n",
       "         -0.8277063 ],\n",
       "        [ 1.9731284 ,  0.08290863, -1.8079661 ,  0.1552416 ,\n",
       "         -0.3584762 ],\n",
       "        [ 1.0385709 ,  0.8378186 ,  0.50289184,  0.1298136 ,\n",
       "         -1.4118444 ]],\n",
       "\n",
       "       [[-0.6312864 , -1.3985616 , -0.2850355 , -0.9285845 ,\n",
       "         -0.9318297 ],\n",
       "        [-1.0202675 , -0.73832935, -1.1400516 , -0.91723055,\n",
       "         -0.8943347 ],\n",
       "        [ 0.74076474,  0.8275649 ,  2.0252597 , -0.56023145,\n",
       "         -0.8277063 ],\n",
       "        [ 1.9731284 ,  0.08290863, -1.8079661 ,  0.1552416 ,\n",
       "         -0.3584762 ],\n",
       "        [ 1.0385709 ,  0.8378186 ,  0.50289184,  0.1298136 ,\n",
       "         -1.4118444 ]],\n",
       "\n",
       "       [[-0.6312864 , -1.3985616 , -0.2850355 , -0.9285845 ,\n",
       "         -0.9318297 ],\n",
       "        [-1.0202675 , -0.73832935, -1.1400516 , -0.91723055,\n",
       "         -0.8943347 ],\n",
       "        [ 0.74076474,  0.8275649 ,  2.0252597 , -0.56023145,\n",
       "         -0.8277063 ],\n",
       "        [ 1.9731284 ,  0.08290863, -1.8079661 ,  0.1552416 ,\n",
       "         -0.3584762 ],\n",
       "        [ 1.0385709 ,  0.8378186 ,  0.50289184,  0.1298136 ,\n",
       "         -1.4118444 ]]], dtype=float32)"
      ]
     },
     "execution_count": 18,
     "metadata": {},
     "output_type": "execute_result"
    }
   ],
   "source": [
    "tf.gather(slicing, indices=[3,3,3]).numpy()"
   ]
  },
  {
   "cell_type": "code",
   "execution_count": 19,
   "metadata": {},
   "outputs": [
    {
     "data": {
      "text/plain": [
       "array([-0.22419482, -1.1617069 ,  0.06356224,  2.0252597 ,  1.2073739 ],\n",
       "      dtype=float32)"
      ]
     },
     "execution_count": 19,
     "metadata": {},
     "output_type": "execute_result"
    }
   ],
   "source": [
    "tf.gather_nd(slicing, indices=[[0,2,2],[1,2,2],[2,2,2],[3,2,2],[4,2,2]]).numpy()"
   ]
  },
  {
   "cell_type": "markdown",
   "metadata": {},
   "source": [
    "Membuat sebuah tensor dengan shape(5,5) dari sebuah list dengan nilai bilangan prima dalam variable prime_tensor"
   ]
  },
  {
   "cell_type": "code",
   "execution_count": 21,
   "metadata": {},
   "outputs": [
    {
     "data": {
      "text/plain": [
       "array([[ 2.,  3.,  5.,  7., 11.],\n",
       "       [13., 17., 19., 23., 29.],\n",
       "       [31., 37., 41., 43., 47.],\n",
       "       [53., 59., 61., 71., 73.],\n",
       "       [79., 83., 89., 97.,  1.]], dtype=float32)"
      ]
     },
     "execution_count": 21,
     "metadata": {},
     "output_type": "execute_result"
    }
   ],
   "source": [
    "list_prime = [[2, 3, 5, 7, 11],[13, 17, 19, 23, 29],[31, 37, 41, 43, 47],[53, 59, 61, 71, 73],[79, 83, 89, 97, 1]]\n",
    "\n",
    "prime_tensor = tf.constant(list_prime, dtype=tf.float32)\n",
    "prime_tensor.numpy()"
   ]
  },
  {
   "cell_type": "markdown",
   "metadata": {},
   "source": [
    "Menampilkan dimensi dari kedua variable tersebut"
   ]
  },
  {
   "cell_type": "code",
   "execution_count": 22,
   "metadata": {},
   "outputs": [
    {
     "data": {
      "text/plain": [
       "TensorShape([5, 5])"
      ]
     },
     "execution_count": 22,
     "metadata": {},
     "output_type": "execute_result"
    }
   ],
   "source": [
    "random_tensor.shape"
   ]
  },
  {
   "cell_type": "code",
   "execution_count": 23,
   "metadata": {},
   "outputs": [
    {
     "data": {
      "text/plain": [
       "TensorShape([5, 5])"
      ]
     },
     "execution_count": 23,
     "metadata": {},
     "output_type": "execute_result"
    }
   ],
   "source": [
    "prime_tensor.shape"
   ]
  },
  {
   "cell_type": "markdown",
   "metadata": {},
   "source": [
    "Menampilkan hasil dari perhitungan aritmatika 2 variable tersebut (Gunakan minimal 5 operator)"
   ]
  },
  {
   "cell_type": "code",
   "execution_count": 24,
   "metadata": {},
   "outputs": [
    {
     "name": "stdout",
     "output_type": "stream",
     "text": [
      "1. Penjumlahan : tf.Tensor(\n",
      "[[ 2.3806756  9.956684   7.7012134 15.286985  13.499617 ]\n",
      " [15.949162  17.56444   12.293202  34.359375  20.947748 ]\n",
      " [25.663486  32.639008  39.09813   49.70365   48.691757 ]\n",
      " [44.578735  64.07116   55.74454   68.56532   70.16296  ]\n",
      " [85.74159   81.51275   93.69572   96.351494  -7.052682 ]], shape=(5, 5), dtype=float32)\n",
      "\n",
      "2. Pengurangan : tf.Tensor(\n",
      "[[ 1.6193244 -3.9566846  2.2987866 -1.2869854  8.500383 ]\n",
      " [10.050838  16.43556   25.706799  11.640623  37.052254 ]\n",
      " [36.336514  41.360992  42.90187   36.29635   45.308243 ]\n",
      " [61.421265  53.928844  66.25546   73.43468   75.83704  ]\n",
      " [72.25841   84.48725   84.30428   97.648506   9.052682 ]], shape=(5, 5), dtype=float32)\n",
      "\n",
      "3. Perkalian : tf.Tensor(\n",
      "[[   0.7613511   20.870054    13.506067    58.008896    27.495783 ]\n",
      " [  38.339092     9.595484  -127.42915    261.26566   -233.5153   ]\n",
      " [-165.43195   -161.3568     -77.97663    288.25702     79.512665 ]\n",
      " [-446.32693    299.19824   -320.58304   -172.86201   -207.10416  ]\n",
      " [ 532.58575   -123.44172    417.9189     -62.90482     -8.052682 ]], shape=(5, 5), dtype=float32)\n",
      "\n",
      "4. Pembagian : tf.Tensor(\n",
      "[[ 5.25381756e+00  4.31239903e-01  1.85101998e+00  8.44698012e-01\n",
      "   4.40067482e+00]\n",
      " [ 4.40803337e+00  3.01183338e+01 -2.83294678e+00  2.02475905e+00\n",
      "  -3.60147715e+00]\n",
      " [-5.80903530e+00 -8.48430347e+00 -2.15577412e+01  6.41441488e+00\n",
      "   2.77817364e+01]\n",
      " [-6.29359293e+00  1.16344271e+01 -1.16069765e+01 -2.91619892e+01\n",
      "  -2.57310143e+01]\n",
      " [ 1.17183008e+01 -5.58077126e+01  1.89534359e+01 -1.49575180e+02\n",
      "  -1.24182232e-01]], shape=(5, 5), dtype=float32)\n",
      "\n",
      "5. Pangkat : tf.Tensor(\n",
      "[[1.3019514e+00 2.0853650e+03 7.7279999e+01 1.0076625e+07 4.0094284e+02]\n",
      " [1.9284054e+03 4.9489708e+00 2.6525184e-09 2.9402195e+15 1.6764981e-12]\n",
      " [1.0998329e-08 1.4490426e-07 8.5643871e-04 8.9166791e+10 6.7419635e+02]\n",
      " [3.0159203e-15 9.5558144e+08 4.1425793e-10 3.1101790e-05 5.1721654e-06]\n",
      " [6.2090835e+12 1.3991100e-03 1.4249062e+09 5.1472109e-02 1.0000000e+00]], shape=(5, 5), dtype=float32)\n",
      "\n",
      "9. Setara : tf.Tensor(\n",
      "[[False False False False False]\n",
      " [False False False False False]\n",
      " [False False False False False]\n",
      " [False False False False False]\n",
      " [False False False False False]], shape=(5, 5), dtype=bool)\n",
      "\n",
      "10. Tidak Setara : tf.Tensor(\n",
      "[[ True  True  True  True  True]\n",
      " [ True  True  True  True  True]\n",
      " [ True  True  True  True  True]\n",
      " [ True  True  True  True  True]\n",
      " [ True  True  True  True  True]], shape=(5, 5), dtype=bool)\n",
      "\n",
      "14. Maximum : tf.Tensor(\n",
      "[[ 2.         6.9566846  5.         8.286985  11.       ]\n",
      " [13.        17.        19.        23.        29.       ]\n",
      " [31.        37.        41.        43.        47.       ]\n",
      " [53.        59.        61.        71.        73.       ]\n",
      " [79.        83.        89.        97.         1.       ]], shape=(5, 5), dtype=float32)\n",
      "\n",
      "15. Minimum : tf.Tensor(\n",
      "[[ 0.38067555  3.          2.7012134   7.          2.4996166 ]\n",
      " [ 2.949161    0.56444025 -6.7067976  11.359377   -8.052252  ]\n",
      " [-5.3365145  -4.3609943  -1.901869    6.7036514   1.6917589 ]\n",
      " [-8.421263    5.0711565  -5.25546    -2.4346762  -2.8370433 ]\n",
      " [ 6.741592   -1.4872496   4.6957183  -0.6485033  -8.052682  ]], shape=(5, 5), dtype=float32)\n",
      "\n",
      "16. Kuadrat Perbedaan : tf.Tensor(\n",
      "[[2.62221169e+00 1.56553526e+01 5.28442001e+00 1.65633142e+00\n",
      "  7.22565155e+01]\n",
      " [1.01019356e+02 2.70127655e+02 6.60839478e+02 1.35504105e+02\n",
      "  1.37286951e+03]\n",
      " [1.32034216e+03 1.71073169e+03 1.84057056e+03 1.31742493e+03\n",
      "  2.05283691e+03]\n",
      " [3.77257178e+03 2.90832031e+03 4.38978613e+03 5.39265186e+03\n",
      "  5.75125732e+03]\n",
      " [5.22127734e+03 7.13809570e+03 7.10721191e+03 9.53523047e+03\n",
      "  8.19510498e+01]], shape=(5, 5), dtype=float32)\n"
     ]
    }
   ],
   "source": [
    "print(\"1. Penjumlahan :\",tf.add(prime_tensor,random_tensor))\n",
    "print(\"\\n2. Pengurangan :\",tf.subtract(prime_tensor,random_tensor))\n",
    "print(\"\\n3. Perkalian :\",tf.multiply(prime_tensor,random_tensor))\n",
    "print(\"\\n4. Pembagian :\",tf.divide(prime_tensor,random_tensor))\n",
    "print(\"\\n5. Pangkat :\",tf.pow(prime_tensor,random_tensor))\n",
    "print(\"\\n9. Setara :\",tf.equal(prime_tensor,random_tensor))\n",
    "print(\"\\n10. Tidak Setara :\",tf.not_equal(prime_tensor,random_tensor))\n",
    "print(\"\\n14. Maximum :\",tf.math.maximum(prime_tensor,random_tensor))\n",
    "print(\"\\n15. Minimum :\",tf.math.minimum(prime_tensor,random_tensor))\n",
    "print(\"\\n16. Kuadrat Perbedaan :\",tf.math.squared_difference(prime_tensor,random_tensor))"
   ]
  },
  {
   "cell_type": "markdown",
   "metadata": {},
   "source": [
    "Menampilkan nilai maksimal dan minimal dari variable random_tensor"
   ]
  },
  {
   "cell_type": "code",
   "execution_count": 25,
   "metadata": {},
   "outputs": [
    {
     "data": {
      "text/plain": [
       "array([4, 0, 4, 1, 0], dtype=int64)"
      ]
     },
     "execution_count": 25,
     "metadata": {},
     "output_type": "execute_result"
    }
   ],
   "source": [
    "tf.argmax(random_tensor, axis=0).numpy()#max baris random_tensor"
   ]
  },
  {
   "cell_type": "code",
   "execution_count": 26,
   "metadata": {},
   "outputs": [
    {
     "data": {
      "text/plain": [
       "array([3, 3, 3, 1, 0], dtype=int64)"
      ]
     },
     "execution_count": 26,
     "metadata": {},
     "output_type": "execute_result"
    }
   ],
   "source": [
    "tf.argmax(random_tensor, axis=1).numpy()#max kolom random_tensor"
   ]
  },
  {
   "cell_type": "code",
   "execution_count": 27,
   "metadata": {},
   "outputs": [
    {
     "data": {
      "text/plain": [
       "array([3, 2, 1, 3, 4], dtype=int64)"
      ]
     },
     "execution_count": 27,
     "metadata": {},
     "output_type": "execute_result"
    }
   ],
   "source": [
    "tf.argmin(random_tensor, axis=0).numpy()#min baris random_tensor"
   ]
  },
  {
   "cell_type": "code",
   "execution_count": 28,
   "metadata": {},
   "outputs": [
    {
     "data": {
      "text/plain": [
       "array([0, 4, 0, 0, 4], dtype=int64)"
      ]
     },
     "execution_count": 28,
     "metadata": {},
     "output_type": "execute_result"
    }
   ],
   "source": [
    "tf.argmin(random_tensor, axis=1).numpy()#min kolom random_tensor"
   ]
  },
  {
   "cell_type": "markdown",
   "metadata": {},
   "source": [
    "Menampilkan hasil dari penggabungan variable random_tensor dengan prime_tensor (concatenation)"
   ]
  },
  {
   "cell_type": "code",
   "execution_count": 29,
   "metadata": {},
   "outputs": [
    {
     "data": {
      "text/plain": [
       "array([[ 0.38067555,  6.9566846 ,  2.7012134 ,  8.286985  ,  2.4996166 ],\n",
       "       [ 2.949161  ,  0.56444025, -6.7067976 , 11.359377  , -8.052252  ],\n",
       "       [-5.3365145 , -4.3609943 , -1.901869  ,  6.7036514 ,  1.6917589 ],\n",
       "       [-8.421263  ,  5.0711565 , -5.25546   , -2.4346762 , -2.8370433 ],\n",
       "       [ 6.741592  , -1.4872496 ,  4.6957183 , -0.6485033 , -8.052682  ],\n",
       "       [ 2.        ,  3.        ,  5.        ,  7.        , 11.        ],\n",
       "       [13.        , 17.        , 19.        , 23.        , 29.        ],\n",
       "       [31.        , 37.        , 41.        , 43.        , 47.        ],\n",
       "       [53.        , 59.        , 61.        , 71.        , 73.        ],\n",
       "       [79.        , 83.        , 89.        , 97.        ,  1.        ]],\n",
       "      dtype=float32)"
      ]
     },
     "execution_count": 29,
     "metadata": {},
     "output_type": "execute_result"
    }
   ],
   "source": [
    "tf.concat([random_tensor,prime_tensor], axis=0).numpy()#penggabungan baris"
   ]
  },
  {
   "cell_type": "code",
   "execution_count": 30,
   "metadata": {},
   "outputs": [
    {
     "data": {
      "text/plain": [
       "array([[ 0.38067555,  6.9566846 ,  2.7012134 ,  8.286985  ,  2.4996166 ,\n",
       "         2.        ,  3.        ,  5.        ,  7.        , 11.        ],\n",
       "       [ 2.949161  ,  0.56444025, -6.7067976 , 11.359377  , -8.052252  ,\n",
       "        13.        , 17.        , 19.        , 23.        , 29.        ],\n",
       "       [-5.3365145 , -4.3609943 , -1.901869  ,  6.7036514 ,  1.6917589 ,\n",
       "        31.        , 37.        , 41.        , 43.        , 47.        ],\n",
       "       [-8.421263  ,  5.0711565 , -5.25546   , -2.4346762 , -2.8370433 ,\n",
       "        53.        , 59.        , 61.        , 71.        , 73.        ],\n",
       "       [ 6.741592  , -1.4872496 ,  4.6957183 , -0.6485033 , -8.052682  ,\n",
       "        79.        , 83.        , 89.        , 97.        ,  1.        ]],\n",
       "      dtype=float32)"
      ]
     },
     "execution_count": 30,
     "metadata": {},
     "output_type": "execute_result"
    }
   ],
   "source": [
    "tf.concat([random_tensor,prime_tensor], axis=1).numpy()#penggabungan kolom"
   ]
  },
  {
   "cell_type": "markdown",
   "metadata": {},
   "source": [
    "Menampilkan hasil sorting dari kedua variable di atas. (descending)"
   ]
  },
  {
   "cell_type": "code",
   "execution_count": 31,
   "metadata": {},
   "outputs": [
    {
     "data": {
      "text/plain": [
       "array([[ 8.286985  ,  6.9566846 ,  2.7012134 ,  2.4996166 ,  0.38067555],\n",
       "       [11.359377  ,  2.949161  ,  0.56444025, -6.7067976 , -8.052252  ],\n",
       "       [ 6.7036514 ,  1.6917589 , -1.901869  , -4.3609943 , -5.3365145 ],\n",
       "       [ 5.0711565 , -2.4346762 , -2.8370433 , -5.25546   , -8.421263  ],\n",
       "       [ 6.741592  ,  4.6957183 , -0.6485033 , -1.4872496 , -8.052682  ]],\n",
       "      dtype=float32)"
      ]
     },
     "execution_count": 31,
     "metadata": {},
     "output_type": "execute_result"
    }
   ],
   "source": [
    "sort_random_tensor1 = tf.sort(random_tensor, direction=\"DESCENDING\")\n",
    "sort_random_tensor1.numpy()"
   ]
  },
  {
   "cell_type": "code",
   "execution_count": 32,
   "metadata": {},
   "outputs": [
    {
     "data": {
      "text/plain": [
       "array([[3, 1, 2, 4, 0],\n",
       "       [3, 0, 1, 2, 4],\n",
       "       [3, 4, 2, 1, 0],\n",
       "       [1, 3, 4, 2, 0],\n",
       "       [0, 2, 3, 1, 4]])"
      ]
     },
     "execution_count": 32,
     "metadata": {},
     "output_type": "execute_result"
    }
   ],
   "source": [
    "sort_random_tensor2 = tf.argsort(random_tensor, direction=\"DESCENDING\")\n",
    "sort_random_tensor2.numpy()"
   ]
  },
  {
   "cell_type": "code",
   "execution_count": 33,
   "metadata": {},
   "outputs": [
    {
     "data": {
      "text/plain": [
       "array([[11.,  7.,  5.,  3.,  2.],\n",
       "       [29., 23., 19., 17., 13.],\n",
       "       [47., 43., 41., 37., 31.],\n",
       "       [73., 71., 61., 59., 53.],\n",
       "       [97., 89., 83., 79.,  1.]], dtype=float32)"
      ]
     },
     "execution_count": 33,
     "metadata": {},
     "output_type": "execute_result"
    }
   ],
   "source": [
    "sort_prime_tensor1 = tf.sort(prime_tensor, direction=\"DESCENDING\")\n",
    "sort_prime_tensor1.numpy()"
   ]
  },
  {
   "cell_type": "code",
   "execution_count": 34,
   "metadata": {},
   "outputs": [
    {
     "data": {
      "text/plain": [
       "array([[4, 3, 2, 1, 0],\n",
       "       [4, 3, 2, 1, 0],\n",
       "       [4, 3, 2, 1, 0],\n",
       "       [4, 3, 2, 1, 0],\n",
       "       [3, 2, 1, 0, 4]])"
      ]
     },
     "execution_count": 34,
     "metadata": {},
     "output_type": "execute_result"
    }
   ],
   "source": [
    "sort_prime_tensor2 = tf.argsort(prime_tensor, direction=\"DESCENDING\")\n",
    "sort_prime_tensor2.numpy()"
   ]
  },
  {
   "cell_type": "code",
   "execution_count": null,
   "metadata": {},
   "outputs": [],
   "source": []
  }
 ],
 "metadata": {
  "kernelspec": {
   "display_name": "Python 3.10.7 64-bit",
   "language": "python",
   "name": "python3"
  },
  "language_info": {
   "codemirror_mode": {
    "name": "ipython",
    "version": 3
   },
   "file_extension": ".py",
   "mimetype": "text/x-python",
   "name": "python",
   "nbconvert_exporter": "python",
   "pygments_lexer": "ipython3",
   "version": "3.10.7"
  },
  "orig_nbformat": 4,
  "vscode": {
   "interpreter": {
    "hash": "6603e728a3c33049bc85756be28a9c040a7533c17587555864706673db8c56f3"
   }
  }
 },
 "nbformat": 4,
 "nbformat_minor": 2
}
